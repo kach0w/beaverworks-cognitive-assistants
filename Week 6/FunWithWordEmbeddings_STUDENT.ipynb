{
 "cells": [
  {
   "cell_type": "markdown",
   "id": "d8b189c8",
   "metadata": {
    "lines_to_next_cell": 0
   },
   "source": [
    "# Fun With Word Embeddings\n",
    "\n",
    "Word embeddings (or \"word vectors\") are mappings from discrete word tokens (e.g., the word \"kitten\") to numerical vectors, e.g., a 200-dimensional vector of real numbers. The goal is for words that are related (such as \"scared\" and \"afraid\") to map to points that are close together in the 200-dimensional space.\n",
    "\n",
    "These continous representations for words have proven very helpful in many NLP tasks. For example, they can help deal with synonyms that would otherwise have been considered totally unrelated in the bag of words approach to representing documents.\n",
    "\n",
    "There are several approaches for finding such an embedding. One approach is to analyze the contexts that words appear in over a large corpus and then find embeddings that map words with similar contexts to similar points in the space. For example,\n",
    "\n",
    "    I am scared of dogs.\n",
    "    I am scared of bees.\n",
    "    I am afraid of dogs.\n",
    "    I am afraid of bees.\n",
    "    ...\n",
    "\n",
    "The words \"scared\" and \"afraid\" both appear in the contexts\n",
    "\n",
    "    \"I am ... of dogs\"\n",
    "\n",
    "and\n",
    "\n",
    "    \"I am ... of bees\"\n",
    "\n",
    "so it's likely that the words are related in some way. The relationship can be semantic (related to meaning) or syntactic (e.g., often occur between a determiner and a noun) In this case, \"scared\" and \"afraid\" are related semantically (similar meaning) and also syntactically (both adjectives).\n",
    "\n",
    "One really neat thing that researchers discovered is that word embeddings can be used to solve analogies, e.g., \n",
    "\n",
    "    \"puppy\" is to \"dog\" as \"kitten\" is to ?\n",
    "    \n",
    "Amazingly, this kind of puzzle can be solved by doing computations on word vectors:\n",
    "\n",
    "```python\n",
    "wv[\"kitten\"] - wv[\"puppy\"] + wv[\"dog\"]\n",
    "```"
   ]
  },
  {
   "cell_type": "markdown",
   "id": "20d00222",
   "metadata": {},
   "source": [
    "and finding the most similar word to the result, `wv[\"cat\"]` in this case.\n",
    "\n",
    "The reason is that the vector `(wv[\"dog\"] - wv[\"puppy\"])` represents a direction in the space the often takes the youth version of a concept to the adult version. So starting with \"kitten\" and moving in that direction winds up in an area of the space similar to \"cat\"."
   ]
  },
  {
   "cell_type": "markdown",
   "id": "9ffaa3b4",
   "metadata": {},
   "source": [
    "## 0 Imports"
   ]
  },
  {
   "cell_type": "code",
   "execution_count": 1,
   "id": "269ce206",
   "metadata": {},
   "outputs": [],
   "source": [
    "from collections import defaultdict\n",
    "import numpy as np\n",
    "import time\n",
    "import gensim\n",
    "from gensim.models.keyedvectors import KeyedVectors\n",
    "from sklearn.decomposition import TruncatedSVD\n",
    "import matplotlib.pyplot as plt\n",
    "%matplotlib inline"
   ]
  },
  {
   "cell_type": "markdown",
   "id": "842f0371",
   "metadata": {},
   "source": [
    "## 1 Load pre-trained GloVe embeddings using gensim library\n",
    "\n",
    "The [gensim](https://radimrehurek.com/gensim/) library is a great tool for working with word embeddings and doing other things with text (like analyzing latent topics). If you need to install gensim, try: \n",
    "\n",
    "    pip install gensim\n",
    "\n",
    "We're going to use gensim to explore some pre-trained word embeddings trained with an algorithm called [GloVe](https://nlp.stanford.edu/projects/glove/).\n",
    "\n",
    "The following code will now use gensim to load the word vectors into a variable called `glove`."
   ]
  },
  {
   "cell_type": "code",
   "execution_count": 2,
   "id": "659bcb98",
   "metadata": {},
   "outputs": [
    {
     "name": "stderr",
     "output_type": "stream",
     "text": [
      "Downloading file 'glove.6B.200d.txt.w2v' from 'https://github.com/rsokl/cog_data/releases/download/language-files/glove.6B.200d.txt.w2v' to 'C:\\Users\\karsa\\AppData\\Local\\cog_data\\cog_data\\Cache'.\n"
     ]
    },
    {
     "name": "stdout",
     "output_type": "stream",
     "text": [
      "elapsed 85.28354072570801s\n"
     ]
    }
   ],
   "source": [
    "from collections import defaultdict\n",
    "import numpy as np\n",
    "import time\n",
    "import gensim\n",
    "from gensim.models.keyedvectors import KeyedVectors\n",
    "from sklearn.decomposition import TruncatedSVD\n",
    "import matplotlib.pyplot as plt\n",
    "\n",
    "from cogworks_data.language import get_data_path\n",
    "\n",
    "%matplotlib inline\n",
    "\n",
    "path = get_data_path(\"glove.6B.200d.txt.w2v\")\n",
    "\n",
    "t0 = time.time()\n",
    "glove = KeyedVectors.load_word2vec_format(path, binary=False)\n",
    "t1 = time.time()\n",
    "print(\"elapsed %ss\" % (t1 - t0))\n",
    "# 50d: elapsed 17.67420792579651s\n",
    "# 100d: "
   ]
  },
  {
   "cell_type": "markdown",
   "id": "cf9e6fbf",
   "metadata": {
    "lines_to_next_cell": 0
   },
   "source": [
    "You can get the word vector for a word (string) with the following: "
   ]
  },
  {
   "cell_type": "code",
   "execution_count": 3,
   "id": "ba8aba33",
   "metadata": {
    "lines_to_next_cell": 0
   },
   "outputs": [
    {
     "data": {
      "text/plain": [
       "array([ 6.5537e-01,  3.8735e-01,  1.0087e+00, -6.3381e-01, -4.5534e-02,\n",
       "        6.1659e-02, -1.0346e+00,  6.1857e-01,  1.8365e-01, -3.5483e-02,\n",
       "       -4.2561e-01,  2.3375e-01,  1.0319e-01,  1.2349e-01,  2.5503e-01,\n",
       "       -1.1548e-03,  3.2842e-02,  3.9811e-01,  1.5354e-02, -2.1607e-01,\n",
       "        1.6743e-01,  2.2086e+00, -4.5581e-02,  7.8442e-02,  3.2552e-01,\n",
       "       -5.4530e-01, -2.9485e-02,  1.4030e-01, -3.0879e-02,  3.1680e-02,\n",
       "       -3.9292e-01, -3.8353e-02, -3.0280e-01, -1.1658e-01,  5.0048e-01,\n",
       "       -7.3475e-01, -3.5356e-01, -3.2892e-01,  4.2470e-01, -1.4566e-01,\n",
       "       -3.5084e-01, -2.7194e-01, -6.5209e-02, -1.5440e-01,  7.0614e-02,\n",
       "        2.5056e-01,  6.5610e-01,  4.4557e-01,  2.2948e-01,  3.9053e-01,\n",
       "       -6.7766e-01,  1.3839e-02,  3.6866e-01, -4.7221e-02,  1.6317e-01,\n",
       "        8.8860e-02, -3.9998e-01, -4.1804e-02, -3.2117e-01,  2.3329e-01,\n",
       "       -1.9320e-01, -5.0800e-01, -3.5526e-01, -1.8716e-01, -1.7210e-01,\n",
       "       -7.4046e-02, -1.9402e-01, -1.1080e-01,  6.2392e-01,  2.3820e-01,\n",
       "        1.6900e-01,  7.7391e-01,  4.0900e-01, -6.2070e-01, -5.1137e-01,\n",
       "        2.8009e-02, -3.7986e-01, -1.1512e-01,  3.2089e-01, -6.1741e-02,\n",
       "        1.1612e+00, -6.1209e-01, -1.3256e-01,  7.3409e-02,  5.8031e-02,\n",
       "       -1.9170e-02, -3.1329e-01, -3.3205e-01,  5.0043e-01, -8.5536e-01,\n",
       "        2.5021e-01,  1.7081e-01,  3.1521e-01, -3.5112e-01, -3.5731e-01,\n",
       "       -6.9078e-02, -4.8587e-01, -5.7718e-01, -6.4088e-01, -3.7586e-02,\n",
       "       -6.1489e-02,  1.5238e-01,  4.6386e-01,  8.4930e-02,  5.8466e-02,\n",
       "       -1.0519e-01, -7.4374e-02,  3.9679e-01, -5.1187e-02,  5.4486e-01,\n",
       "        2.9488e-01,  1.6083e-01,  6.3746e-01, -3.5102e-02, -3.2521e-01,\n",
       "        5.1396e-01, -1.4105e-01,  4.3389e-01, -5.7176e-01,  2.4611e-01,\n",
       "        7.8043e-02,  5.0266e-01, -2.0800e-01, -3.1668e-01,  1.2568e-01,\n",
       "       -4.4279e-02,  1.1897e-01,  6.4355e-01,  2.3160e-01,  2.0215e-02,\n",
       "       -2.0764e-01, -4.7329e-02,  1.2469e-02,  1.7089e-01, -2.1790e-01,\n",
       "       -1.0432e+00, -3.9395e-01, -5.5219e-02, -4.6260e-01, -1.1525e-01,\n",
       "        1.7449e-01, -1.6714e-01,  7.6428e-01, -6.1207e-01,  1.2025e+00,\n",
       "        4.4927e-02, -2.8333e-01, -6.5945e-01,  2.5464e-02, -1.7133e-01,\n",
       "       -3.2598e-02,  8.0834e-01, -3.1656e-02,  2.6620e-01, -8.3909e-02,\n",
       "       -1.2766e-01,  1.7952e-01,  1.0200e-01,  4.2009e-01,  8.8418e-02,\n",
       "        1.3206e-01, -1.4671e-01,  2.3559e-01, -3.3285e-01,  9.7601e-02,\n",
       "        2.4661e-02, -1.6009e-01,  2.6175e-01, -3.0547e-02, -3.1988e-02,\n",
       "       -2.7991e-01,  4.2190e-01,  3.5537e-01, -3.4480e-01,  3.0553e-01,\n",
       "       -2.8893e-02, -2.4924e-02,  1.2966e-01,  2.4191e-01, -2.8737e-01,\n",
       "        6.4739e-01,  2.7292e-02,  5.9763e-01, -9.9643e-02, -4.2199e-01,\n",
       "       -6.8434e-01,  7.0058e-02,  1.7346e-01,  4.9981e-02, -3.4566e-01,\n",
       "       -2.0188e-01,  1.2586e-01,  5.6260e-01, -5.0107e-01,  4.7264e-01,\n",
       "       -9.8714e-01, -3.3162e-01, -2.0275e-01,  3.2107e-01,  6.0382e-01],\n",
       "      dtype=float32)"
      ]
     },
     "execution_count": 3,
     "metadata": {},
     "output_type": "execute_result"
    }
   ],
   "source": [
    "glove[\"word\"]"
   ]
  },
  {
   "cell_type": "markdown",
   "id": "ca9f47d6",
   "metadata": {
    "lines_to_next_cell": 0
   },
   "source": [
    "Print out the word vector for your favorite word. Note: you can check that the word is in the 400K lowercased vocabulary with:"
   ]
  },
  {
   "cell_type": "code",
   "execution_count": 4,
   "id": "4d9a4a28",
   "metadata": {
    "lines_to_next_cell": 0
   },
   "outputs": [
    {
     "data": {
      "text/plain": [
       "True"
      ]
     },
     "execution_count": 4,
     "metadata": {},
     "output_type": "execute_result"
    }
   ],
   "source": [
    "\"word\" in glove"
   ]
  },
  {
   "cell_type": "markdown",
   "id": "31321751",
   "metadata": {},
   "source": [
    "What's the type of the word vector (e.g. a numpy array, a tuple)? What's its shape?"
   ]
  },
  {
   "cell_type": "code",
   "execution_count": 5,
   "id": "679226ae",
   "metadata": {
    "lines_to_next_cell": 2
   },
   "outputs": [
    {
     "name": "stdout",
     "output_type": "stream",
     "text": [
      "[ 3.1793e-01  3.4400e-01 -9.0511e-01 -4.3271e-01  1.1543e-01  1.5383e-01\n",
      "  2.3106e-01 -4.7584e-01  3.1800e-02  7.6982e-02 -3.7044e-01  2.5391e-01\n",
      "  1.4194e-01 -7.0610e-01  4.4894e-01 -8.6902e-02 -1.5834e-01 -1.3260e-01\n",
      "  6.0105e-01  2.0148e-02 -1.3347e-01  1.9599e+00 -1.3208e-01  6.1703e-02\n",
      " -3.8635e-01  3.0429e-01 -3.8309e-01  5.7872e-01 -3.3823e-01  3.6471e-01\n",
      "  3.6213e-01 -3.6225e-01 -1.6756e-01 -1.9927e-01  5.5961e-01  8.0017e-03\n",
      "  6.8718e-02 -2.2266e-01 -6.5866e-01  1.9091e-01  2.4851e-01 -1.4110e-01\n",
      " -8.0859e-01 -7.1051e-01 -1.3306e-01  1.6007e-01  1.9619e-01  2.8744e-01\n",
      "  1.3344e-01  4.0362e-01 -6.3615e-01  4.6071e-01 -6.7271e-03  2.3876e-01\n",
      " -3.3214e-01  2.2132e-01 -8.1710e-01  3.5457e-01  1.2943e-01 -6.1575e-02\n",
      " -2.6547e-01 -5.1525e-01  1.6572e-03  1.4764e-01 -5.2639e-01 -7.9012e-02\n",
      " -3.3560e-01  9.1730e-01 -1.0942e-02 -1.5689e-01 -1.3173e-01  5.2034e-01\n",
      " -4.6518e-03  3.4052e-01  4.2375e-01  9.0476e-01  6.1334e-01 -5.7157e-01\n",
      " -2.2235e-01  6.1718e-01 -3.8707e-01 -6.1221e-01 -8.0736e-01 -1.4777e-01\n",
      " -2.0063e-01  1.1591e-01  1.4085e-01 -4.2834e-02  4.3489e-01  6.2451e-02\n",
      " -3.6387e-01  6.1817e-01 -4.0114e-01 -5.7921e-02  4.7424e-01 -3.4689e-01\n",
      "  2.5273e-01  3.4701e-01 -3.0186e-01  3.8057e-01  9.5232e-02 -2.7956e-01\n",
      " -2.0238e-01  6.5644e-01 -2.2332e-01  1.0616e-01 -4.7882e-02  1.3649e+00\n",
      " -6.0700e-01 -1.1692e-01  3.5453e-01 -6.8726e-02 -6.4918e-01  5.4410e-01\n",
      " -8.9653e-02 -4.9360e-01 -1.9743e-01  5.9898e-01  1.2022e+00  4.3617e-01\n",
      " -1.0985e-01 -4.6930e-02  5.4803e-01  1.9942e-01  1.0227e+00 -1.4713e+00\n",
      " -3.8013e-01  7.4542e-01  2.9219e-03 -7.1845e-01  2.5887e-01 -1.4877e-01\n",
      " -5.7691e-01 -3.5615e-01  1.7390e-01 -1.6675e-01  1.9941e-01 -8.0968e-01\n",
      " -1.1785e-01 -3.0698e-01  4.8748e-03  2.4569e-01 -1.7254e-02 -2.5298e-01\n",
      "  2.4235e-01  9.7179e-02  7.2610e-01 -8.3790e-01  2.5729e-01 -6.8292e-02\n",
      "  4.4202e-01  7.5510e-02  4.3930e-01  2.6833e-01 -1.1310e-01  5.9847e-01\n",
      "  1.1623e-01  6.1766e-01  1.3932e-02 -6.3217e-01 -6.8635e-02 -2.7260e-01\n",
      "  1.5491e-01  3.7178e-01 -4.1864e-01  3.6711e-01  3.7105e-01 -1.5852e-01\n",
      " -1.0606e-02  4.5099e-01  3.1767e-01 -2.4620e-02  3.9153e-01  5.7461e-01\n",
      " -8.1154e-01  6.2243e-01  2.1784e-01  5.4232e-02 -4.6611e-01  2.6930e-01\n",
      "  1.6003e+00  6.1879e-01 -6.0000e-02  1.6067e-01  1.3650e-01 -4.4735e-01\n",
      " -5.7665e-01  3.2609e-01  5.3226e-01 -2.3638e-01 -1.9691e-01  5.0553e-01\n",
      " -5.4024e-01  3.3549e-01  1.5068e-01  7.8533e-03 -6.2608e-01  4.4218e-01\n",
      "  8.1424e-01 -2.5728e-01]\n",
      "<class 'numpy.ndarray'>\n",
      "(200,)\n"
     ]
    }
   ],
   "source": [
    "v = glove[\"rose\"]\n",
    "print(v)\n",
    "print(type(v))\n",
    "print(v.shape)"
   ]
  },
  {
   "cell_type": "markdown",
   "id": "57df8d6d",
   "metadata": {},
   "source": [
    "It's not clear how to (or even if we can) interpret what the individual dimensions mean. But we can gain some intuition by looking at the relationships between whole word vectors."
   ]
  },
  {
   "cell_type": "markdown",
   "id": "7e82f40e",
   "metadata": {
    "lines_to_next_cell": 0
   },
   "source": [
    "## 2 Finding most similar words\n",
    "\n",
    "You can use"
   ]
  },
  {
   "cell_type": "code",
   "execution_count": 6,
   "id": "5bacbf15",
   "metadata": {
    "lines_to_next_cell": 0
   },
   "outputs": [
    {
     "data": {
      "text/plain": [
       "[('phrase', 0.7727311849594116),\n",
       " ('meaning', 0.7680514454841614),\n",
       " ('words', 0.7433041334152222),\n",
       " ('name', 0.7073523998260498),\n",
       " ('language', 0.6791515946388245),\n",
       " ('means', 0.6407988667488098),\n",
       " ('referring', 0.6315523982048035),\n",
       " ('literally', 0.6247207522392273),\n",
       " ('refers', 0.6156948208808899),\n",
       " ('describe', 0.6129394173622131)]"
      ]
     },
     "execution_count": 6,
     "metadata": {},
     "output_type": "execute_result"
    }
   ],
   "source": [
    "glove.most_similar(\"word\")"
   ]
  },
  {
   "cell_type": "markdown",
   "id": "9629e1dc",
   "metadata": {},
   "source": [
    "to find the words that the model considers most similar to a specified word (according to cosine similarity). Try it out on \"funny\" and \"pencil\" and some other words.\n"
   ]
  },
  {
   "cell_type": "code",
   "execution_count": 11,
   "id": "96aaa448",
   "metadata": {},
   "outputs": [
    {
     "data": {
      "text/plain": [
       "[('schools', 0.8050940036773682),\n",
       " ('students', 0.7750486135482788),\n",
       " ('college', 0.7743677496910095),\n",
       " ('elementary', 0.7543951272964478),\n",
       " ('education', 0.6950934529304504),\n",
       " ('high', 0.6916654109954834),\n",
       " ('student', 0.6892033219337463),\n",
       " ('graduate', 0.6870005130767822),\n",
       " ('teacher', 0.6807228326797485),\n",
       " ('campus', 0.6579830646514893)]"
      ]
     },
     "execution_count": 11,
     "metadata": {},
     "output_type": "execute_result"
    }
   ],
   "source": [
    "# STUDENT CODE HERE\n",
    "glove.most_similar(\"school\")"
   ]
  },
  {
   "cell_type": "markdown",
   "id": "5b4b3f69",
   "metadata": {},
   "source": [
    "What do you notice about the relationships of the similars words to the query word? Are they all the same part of speech (e.g., all adjectives or all verbs)? Are they synonyms or near synonyms? Are they all objects of the same type (e.g., all tools)?"
   ]
  },
  {
   "cell_type": "markdown",
   "id": "8cce240e",
   "metadata": {
    "lines_to_next_cell": 0
   },
   "source": [
    "## 3 Visualization through dimensionality reduction\n",
    "\n",
    "It's difficult to visualize high-dimensional data like the 200-dimensional GloVe embeddings. So we're going to use (truncated) Singular Value Decomposition (SVD) to reduce the dimensions down to 2, which we can then easily plot.\n",
    "\n",
    "We'll be using scikit-learn's `TruncatedSVD` implementation. When creating the object, you provide the number of desired dimensions, e.g.,\n",
    "\n",
    "```python\n",
    "svd = TruncatedSVD(n_components=2)\n",
    "```\n",
    "\n",
    "Then you fit the dimensionality reduction model to data with:\n",
    "\n",
    "```python\n",
    "svd.fit(X_train)\n",
    "```\n",
    "\n",
    "Finally, to transform a 200-dimensional matrix (or single vector) down to 2-dimensions according to the model, you call:\n",
    "\n",
    "```python\n",
    "X_reduced = svd.transform(X)\n",
    "```"
   ]
  },
  {
   "cell_type": "markdown",
   "id": "ed1628ba",
   "metadata": {},
   "source": [
    "### Get all embeddings into a matrix\n",
    "\n",
    "First, we'll copy all of the word embeddings into a single matrix. Note: It's a little wasteful to have loaded the embeddings using gensim (which is storing them internally already) and then copying them into a numpy array in order to apply dimensionality reduction. But it was handy to use gensim for loading and for some of it's convenient lookup methods..."
   ]
  },
  {
   "cell_type": "code",
   "execution_count": 12,
   "id": "e36810f1",
   "metadata": {},
   "outputs": [
    {
     "name": "stdout",
     "output_type": "stream",
     "text": [
      "640000000\n"
     ]
    }
   ],
   "source": [
    "n = len(glove.key_to_index)\n",
    "d = glove.vector_size\n",
    "X_glove = np.zeros((n, d))\n",
    "for i, word in enumerate(glove.key_to_index.keys()):\n",
    "    X_glove[i,:] = glove[word]\n",
    "print(X_glove.nbytes)"
   ]
  },
  {
   "cell_type": "markdown",
   "id": "8d522cea",
   "metadata": {},
   "source": [
    "### Fit `TruncatedSVD` on the `X_glove` matrix."
   ]
  },
  {
   "cell_type": "code",
   "execution_count": 15,
   "id": "9c221950",
   "metadata": {},
   "outputs": [],
   "source": [
    "# STUDENT CODE HERE\n",
    "svd = TruncatedSVD(n_components=2)\n",
    "svd.fit(X_glove)\n",
    "X_reduced = svd.transform(X_glove)\n"
   ]
  },
  {
   "cell_type": "markdown",
   "id": "f6ce73d4",
   "metadata": {},
   "source": [
    "The following helper function will help us visualize word pairs in the reduced 2-dimensional version of the word embedding space:"
   ]
  },
  {
   "cell_type": "code",
   "execution_count": 16,
   "id": "8b3871da",
   "metadata": {},
   "outputs": [],
   "source": [
    "def plot_pairs(words, word_vectors, svd):\n",
    "    \"\"\" Plots pairs of words in 2D.\n",
    "    \n",
    "    Parameters\n",
    "    ----------\n",
    "    words: list[str]\n",
    "        A list with an even number of words, where pairs of words have some common relationship\n",
    "        (like profession and tool), e.g., [\"carpenter\", \"hammer\", \"plumber\", \"wrench\"].\n",
    "        \n",
    "    word_vectors: KeyedVectors instance\n",
    "        A word embedding model in gensim's KeyedVectors wrapper.\n",
    "        \n",
    "    svd: TruncatedSVD instance\n",
    "        A truncated SVD instance that's already been fit (with n_components=2).\n",
    "    \"\"\"\n",
    "\n",
    "    # map specified words to 2D space\n",
    "    d = word_vectors.vector_size\n",
    "    words_temp = np.zeros((len(words), d))\n",
    "    for i, word in enumerate(words):\n",
    "        words_temp[i,:] = word_vectors[word]\n",
    "    words_2D = svd.transform(words_temp)\n",
    "\n",
    "    # plot points\n",
    "    plt.scatter(words_2D[:,0], words_2D[:,1])\n",
    "    \n",
    "    # plot labels\n",
    "    for i, txt in enumerate(words):\n",
    "        plt.annotate(txt, (words_2D[i, 0], words_2D[i, 1]))\n",
    "\n",
    "    # plot lines\n",
    "    for i in range(int(len(words)/2)):\n",
    "        plt.plot(words_2D[i*2:i*2+2,0], words_2D[i*2:i*2+2,1], linestyle='dashed', color='k')"
   ]
  },
  {
   "cell_type": "markdown",
   "id": "42eb576c",
   "metadata": {},
   "source": [
    "### Visualize: Male vs Female\n",
    "\n",
    "Try plotting these pairs and then adding some more to see how consistent the relationship is."
   ]
  },
  {
   "cell_type": "code",
   "execution_count": 17,
   "id": "4855ff34",
   "metadata": {},
   "outputs": [
    {
     "data": {
      "image/png": "[encoded data removed]",
      "text/plain": [
       "<Figure size 640x480 with 1 Axes>"
      ]
     },
     "metadata": {},
     "output_type": "display_data"
    }
   ],
   "source": [
    "words = [\"man\", \"woman\", \"king\", \"queen\", \"uncle\", \"aunt\", \"nephew\", \"niece\", \"brother\", \"sister\", \"sir\", \"madam\"]\n",
    "plot_pairs(words, glove, svd)"
   ]
  },
  {
   "cell_type": "markdown",
   "id": "1ec1a645",
   "metadata": {},
   "source": [
    "### Visualize: Adjective vs Comparative\n",
    "\n",
    "Try plotting these pairs and then adding some more to see how consistent the relationship is."
   ]
  },
  {
   "cell_type": "code",
   "execution_count": 18,
   "id": "76375c26",
   "metadata": {},
   "outputs": [
    {
     "data": {
      "image/png": "[encoded data removed]",
      "text/plain": [
       "<Figure size 640x480 with 1 Axes>"
      ]
     },
     "metadata": {},
     "output_type": "display_data"
    }
   ],
   "source": [
    "words = [\"short\", \"shorter\", \"strong\", \"stronger\", \"good\", \"better\"]\n",
    "plot_pairs(words, glove, svd)"
   ]
  },
  {
   "cell_type": "markdown",
   "id": "d9b22a46",
   "metadata": {},
   "source": [
    "### Visualize: Cellular Biology Metaphors\n",
    "\n",
    "Try plotting these pairs and then adding some more to see how consistent the relationship is."
   ]
  },
  {
   "cell_type": "code",
   "execution_count": 19,
   "id": "0e404dfc",
   "metadata": {},
   "outputs": [
    {
     "data": {
      "image/png": "[encoded data removed]",
      "text/plain": [
       "<Figure size 640x480 with 1 Axes>"
      ]
     },
     "metadata": {},
     "output_type": "display_data"
    }
   ],
   "source": [
    "words = [\"mitochondria\", \"cell\", \"powerhouse\", \"town\"]\n",
    "plot_pairs(words, glove, svd)"
   ]
  },
  {
   "cell_type": "markdown",
   "id": "25568760",
   "metadata": {},
   "source": [
    "## 4 Introduction to Analogies\n",
    "\n",
    "Let's try applying word embeddings to solve analogies of the form: $a$ is to $b$ as $c$ is to ?\n",
    "\n",
    "We'll exploit the directions in the embedding space by finding the closest vector to $c + (b - a)$, or equivalently $c - a + b$.\n",
    "\n",
    "A common example is: \"puppy\" is to \"dog\" as \"kitten\" is to ?\n",
    "\n",
    "This can be solved by finding the closest vector to: \"kitten\" - \"puppy\" + \"dog\"."
   ]
  },
  {
   "cell_type": "code",
   "execution_count": 20,
   "id": "4bb82659",
   "metadata": {},
   "outputs": [
    {
     "data": {
      "text/plain": [
       "[('car', 0.5445271730422974),\n",
       " ('suv', 0.4152628779411316),\n",
       " ('cars', 0.3960222899913788),\n",
       " ('all-transistor', 0.389010488986969),\n",
       " ('kadett', 0.38415998220443726),\n",
       " ('subcompact', 0.3827592134475708),\n",
       " ('mercedes', 0.38206812739372253),\n",
       " ('dealership', 0.37758344411849976),\n",
       " ('vehicle', 0.3758259117603302),\n",
       " ('mid-size', 0.37351423501968384)]"
      ]
     },
     "execution_count": 20,
     "metadata": {},
     "output_type": "execute_result"
    }
   ],
   "source": [
    "query = glove[\"car\"] - glove[\"road\"]\n",
    "glove.similar_by_vector(query)"
   ]
  },
  {
   "cell_type": "markdown",
   "id": "72579a78",
   "metadata": {},
   "source": [
    "Note that the most similar word (other than \"dog\" itself) is \"cat\"!\n",
    "\n",
    "Now try solving: \"france\" is to \"paris\" as \"germany\" is to ?"
   ]
  },
  {
   "cell_type": "code",
   "execution_count": 24,
   "id": "0b888f04",
   "metadata": {},
   "outputs": [
    {
     "data": {
      "text/plain": [
       "[('berlin', 0.8379163146018982),\n",
       " ('frankfurt', 0.7468419075012207),\n",
       " ('germany', 0.7307736873626709),\n",
       " ('munich', 0.7009459733963013),\n",
       " ('vienna', 0.6895925402641296),\n",
       " ('bonn', 0.6802985072135925),\n",
       " ('cologne', 0.6425222754478455),\n",
       " ('hamburg', 0.6315088868141174),\n",
       " ('leipzig', 0.6223219633102417),\n",
       " ('stuttgart', 0.612744927406311)]"
      ]
     },
     "execution_count": 24,
     "metadata": {},
     "output_type": "execute_result"
    }
   ],
   "source": [
    "# STUDENT CODE HERE\n",
    "query = glove[\"germany\"] - glove[\"france\"] + glove[\"paris\"] \n",
    "glove.similar_by_vector(query)"
   ]
  },
  {
   "cell_type": "markdown",
   "id": "d14229e5",
   "metadata": {},
   "source": [
    "Note that the gensim library has convenience methods for doing analogies. For example,\n",
    "\n",
    "\"kitten\" - \"puppy\" + \"dog\"\n",
    "\n",
    "can be solved with:\n",
    "\n",
    "```python\n",
    "glove.most_similar_cosmul(positive=['kitten', 'dog'], negative=['puppy'])\n",
    "```\n",
    "\n",
    "This uses a slightly more advanced technique for solving analogies that has \"less susceptibility to one large distance dominating the calculation\". See most_similar_cosmul() documentation for more details."
   ]
  },
  {
   "cell_type": "code",
   "execution_count": 34,
   "id": "7c3616e6",
   "metadata": {},
   "outputs": [
    {
     "data": {
      "text/plain": [
       "[('berlin', 0.9911532998085022),\n",
       " ('frankfurt', 0.9358693361282349),\n",
       " ('vienna', 0.9044881463050842),\n",
       " ('munich', 0.898804247379303),\n",
       " ('bonn', 0.8946152329444885),\n",
       " ('cologne', 0.8682121634483337),\n",
       " ('leipzig', 0.8654881119728088),\n",
       " ('hamburg', 0.8612183332443237),\n",
       " ('dresden', 0.8594275116920471),\n",
       " ('stuttgart', 0.8509519696235657)]"
      ]
     },
     "execution_count": 34,
     "metadata": {},
     "output_type": "execute_result"
    }
   ],
   "source": [
    "glove.most_similar_cosmul(positive=['paris', 'germany'], negative=['france'])"
   ]
  },
  {
   "cell_type": "markdown",
   "id": "d8ccb243",
   "metadata": {},
   "source": [
    "Try experimenting with some other kinds of word relationships (e.g., plurals, ing forms, etc.)."
   ]
  }
 ],
 "metadata": {
  "jupytext": {
   "formats": "md,ipynb",
   "main_language": "python",
   "notebook_metadata_filter": "nbsphinx,-kernelspec"
  },
  "kernelspec": {
   "display_name": "Python 3 (ipykernel)",
   "language": "python",
   "name": "python3"
  },
  "language_info": {
   "codemirror_mode": {
    "name": "ipython",
    "version": 3
   },
   "file_extension": ".py",
   "mimetype": "text/x-python",
   "name": "python",
   "nbconvert_exporter": "python",
   "pygments_lexer": "ipython3",
   "version": "3.8.16"
  },
  "nbsphinx": {
   "execute": "never"
  }
 },
 "nbformat": 4,
 "nbformat_minor": 5
}
