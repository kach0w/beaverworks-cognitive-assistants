{
 "cells": [
  {
   "cell_type": "markdown",
   "id": "4b8a9870",
   "metadata": {},
   "source": [
    "# Python Intro 2 Lecture Notes\n",
    "In this notebook, we will be learning about the concept of iterables as well as creating both loops and functions.  "
   ]
  },
  {
   "cell_type": "markdown",
   "id": "5ce40783",
   "metadata": {},
   "source": [
    "## Iterables:"
   ]
  },
  {
   "cell_type": "code",
   "execution_count": 1,
   "id": "8ca7c111",
   "metadata": {},
   "outputs": [],
   "source": [
    "# Constructing a List:\n",
    "\n",
    "# A list is created using square-brackets, and its contents are separated by commas.  \n",
    "# The items inside the list do not need to be of the same object type.  \n",
    "\n",
    "# <COGINST>\n",
    "example = [1, \"two\", True]\n",
    "\n",
    "# </COGINST>"
   ]
  },
  {
   "cell_type": "code",
   "execution_count": 2,
   "id": "ae6e018b",
   "metadata": {},
   "outputs": [],
   "source": [
    "# Constructing a Tuple:\n",
    "\n",
    "# A tuple is constructed using parentheses, and its contents are separated by commas.  \n",
    "# Similar to a list, the items inside the tuple do not need to be of the same object type.  \n",
    "# One of the major differences between tuples and lists is that tuples are considered immutable.  \n",
    "# This means that the contents of the tuple cannot be changed the way a list's can.  \n",
    "\n",
    "# <COGINST>\n",
    "example2 = (False, \"word\", 5)\n",
    "# </COGINST>"
   ]
  },
  {
   "cell_type": "code",
   "execution_count": 3,
   "id": "d1b66714",
   "metadata": {},
   "outputs": [
    {
     "name": "stdout",
     "output_type": "stream",
     "text": [
      "1\n",
      "word\n"
     ]
    }
   ],
   "source": [
    "# Indexing\n",
    "\n",
    "# You can access single values from iterables such as lists and tuples using indexing.  \n",
    "# To index into an iterable, you type the name of the iterable, followed by square brackets \n",
    "# containing the index of the desired value.  \n",
    "\n",
    "# It is important to remember that indices begin at 0 instead of 1!\n",
    "\n",
    "# <COGINST>\n",
    "print(example[0])\n",
    "print(example2[1])\n",
    "# </COGINST>"
   ]
  },
  {
   "cell_type": "code",
   "execution_count": 23,
   "id": "192d3e93",
   "metadata": {},
   "outputs": [
    {
     "name": "stdout",
     "output_type": "stream",
     "text": [
      "[0, 1, 2, 3, 4]\n"
     ]
    }
   ],
   "source": [
    "# Slicing\n",
    "\n",
    "# You can also access sections of the data inside iterables using a method similar to indexing.  \n",
    "# You accomplish this by specifying a start and end index, which is separated by a colon.  \n",
    "# Python will retrieve the starting point, and every value between it and the ending point.  \n",
    "# It is important to remember the end point is not included!\n",
    "\n",
    "# <COGINST>\n",
    "numbers = [0, 1, 2, 3, 4, 5, 6, 7, 8, 9]\n",
    "print(numbers[0:5])\n",
    "# </COGINST>"
   ]
  },
  {
   "cell_type": "code",
   "execution_count": 25,
   "id": "976e6b0a",
   "metadata": {},
   "outputs": [
    {
     "name": "stdout",
     "output_type": "stream",
     "text": [
      "[0, 2, 4]\n"
     ]
    }
   ],
   "source": [
    "# You can also set a step value (n) for the slice.\n",
    "# This will allow you to retrieve the value at every nth interval.\n",
    "# For instance, if I set the step value to 2, it will take every other value in the slice range\n",
    "\n",
    "# <COGINST>\n",
    "print(numbers[0:5:2])\n",
    "# </COGINST>"
   ]
  },
  {
   "cell_type": "code",
   "execution_count": 26,
   "id": "b9fa386e",
   "metadata": {},
   "outputs": [
    {
     "name": "stdout",
     "output_type": "stream",
     "text": [
      "[9, 8, 7, 6, 5, 4, 3, 2, 1, 0]\n"
     ]
    }
   ],
   "source": [
    "# This step value can also be negative, resulting in the order of the slice being reversed.\n",
    "# If I specify only a step value, I can retrieve the value at every nth interval for the whole iterable. \n",
    "# If the step value is negative, this can reverse the order of the list.\n",
    "\n",
    "print(numbers[::-1])"
   ]
  },
  {
   "cell_type": "code",
   "execution_count": 5,
   "id": "97c76239",
   "metadata": {},
   "outputs": [
    {
     "name": "stdout",
     "output_type": "stream",
     "text": [
      "[1, 2, 3, 4, 5, 6]\n",
      "('a', 'b', 'c', 'd', 'e', 'f')\n"
     ]
    }
   ],
   "source": [
    "# Combining Lists and Tuples\n",
    "\n",
    "# You can combine two lists or tuples using the '+' mathematical operator.  \n",
    "# The iterables combined in this way must be of the same type. \n",
    "\n",
    "# <COGINST>\n",
    "list1 = [1, 2, 3]\n",
    "list2 = [4, 5, 6]\n",
    "print(list1 + list2)\n",
    "\n",
    "tuple1 = ('a', 'b', 'c')\n",
    "tuple2 = ('d', 'e', 'f')\n",
    "print(tuple1 + tuple2)\n",
    "# </COGINST>"
   ]
  },
  {
   "cell_type": "code",
   "execution_count": 6,
   "id": "3ee48f46",
   "metadata": {},
   "outputs": [
    {
     "name": "stdout",
     "output_type": "stream",
     "text": [
      "[1, 2, 3]\n",
      "[1, 3, 3]\n"
     ]
    }
   ],
   "source": [
    "# Changing Elements in a List\n",
    "\n",
    "# To change an element in a list, you set the value at that index to the new value.  \n",
    "\n",
    "# <COGINST>\n",
    "print(list1)\n",
    "list1[1] = 3\n",
    "print(list1)\n",
    "# </COGINST>"
   ]
  },
  {
   "cell_type": "code",
   "execution_count": 7,
   "id": "ac9852fb",
   "metadata": {},
   "outputs": [
    {
     "name": "stdout",
     "output_type": "stream",
     "text": [
      "['two', 'three', 'four', 'one', 'two', 'three', 'four']\n",
      "['two', 'three', 'four', 'one', 'three', 'four']\n"
     ]
    }
   ],
   "source": [
    "# Removing Elements From a List\n",
    "\n",
    "# There are two ways to remove elements from a list.  \n",
    "# You can use remove() to eliminate the first element of the input value\n",
    "# To eliminate the element at an index, you use the del() function.  \n",
    "\n",
    "# <COGINST>\n",
    "list3 = ['one', 'two', 'three', 'four', 'one', 'two', 'three', 'four']\n",
    "list3.remove('one')  ##know value\n",
    "print(list3)\n",
    "del(list3[4])   ##index\n",
    "print(list3)  \n",
    "# </COGINST>"
   ]
  },
  {
   "cell_type": "markdown",
   "id": "d0acf3c7",
   "metadata": {},
   "source": [
    "Notice that the above code does not remove all instances of \"one\", but instead removes only the leftmost instance.  You can use the remove function if you know the value (but maybe don't know the index) of the element you want to remove, and you can use del if you know the index (but maybe don't know the value).  "
   ]
  },
  {
   "cell_type": "code",
   "execution_count": 8,
   "id": "7efd841c",
   "metadata": {},
   "outputs": [
    {
     "name": "stdout",
     "output_type": "stream",
     "text": [
      "[0, 1, 2, 3, 4, 5, 6, 7, 8, 9]\n",
      "10\n"
     ]
    }
   ],
   "source": [
    "# Finding length of iterable\n",
    "\n",
    "# You can use the len() function to find the number of elements in an iterable.\n",
    "\n",
    "# <COGINST>\n",
    "print(numbers)\n",
    "print(len(numbers))\n",
    "# </COGINST>"
   ]
  },
  {
   "cell_type": "markdown",
   "id": "c9c008b6",
   "metadata": {},
   "source": [
    "Other Useful Functions for Iterables:\n",
    "\n",
    "Python has a number of built-in functions which can be useful when working with iterables.  \n",
    "We will not cover all of them here, but you can find a full list of them on the python documentation website.\n",
    "https://docs.python.org/3/howto/functional.html#built-in-functions\n",
    "\n",
    "Additionally, if the format of the official documentation is a little confusing, I would recommend checking out the \"itertools\" section of Python Like You Mean It.  The section contains explanations and examples of some of the most useful iterable functions.  \n",
    "\n",
    "http://www.pythonlikeyoumeanit.com/Module2_EssentialsOfPython/Itertools.html"
   ]
  },
  {
   "cell_type": "markdown",
   "id": "009e8f62",
   "metadata": {},
   "source": [
    "### Dictionaries:"
   ]
  },
  {
   "cell_type": "code",
   "execution_count": 9,
   "id": "7c0df1ef",
   "metadata": {},
   "outputs": [
    {
     "name": "stdout",
     "output_type": "stream",
     "text": [
      "2\n"
     ]
    }
   ],
   "source": [
    "# There is another type of iterable where they indices of its values can be specified.  \n",
    "# This is called a dictionary.  \n",
    "\n",
    "# A dictionary is constructed using curly-brackets and pairs of keys and elements separated by commas.  \n",
    "# The key (index) is separated from the value by a colon.  \n",
    "\n",
    "# <COGINST>\n",
    "exampleDict = {'one':1, 'two':2, 'three':3, 'four':4, 'five':5}\n",
    "print(exampleDict['two'])\n",
    "# </COGINST>"
   ]
  },
  {
   "cell_type": "code",
   "execution_count": 10,
   "id": "b916f522",
   "metadata": {},
   "outputs": [
    {
     "name": "stdout",
     "output_type": "stream",
     "text": [
      "{'one': 1, 'two': 2, 'three': 3, 'four': 4, 'five': 5, 'six': 6}\n"
     ]
    }
   ],
   "source": [
    "# Adding to a Dictionary\n",
    "\n",
    "# To add a value to a dictionary, you specify the index you would like the value to have as though that\n",
    "# index already exists, and set it equal to the desired value.  \n",
    "\n",
    "# <COGINST>\n",
    "exampleDict['six'] = 6\n",
    "print(exampleDict)\n",
    "# </COGINST>"
   ]
  },
  {
   "cell_type": "code",
   "execution_count": 11,
   "id": "e3d720a1",
   "metadata": {},
   "outputs": [
    {
     "name": "stdout",
     "output_type": "stream",
     "text": [
      "dict_keys(['one', 'two', 'three', 'four', 'five', 'six'])\n",
      "dict_values([1, 2, 3, 4, 5, 6])\n"
     ]
    }
   ],
   "source": [
    "# Keys and Values\n",
    "\n",
    "# You can view a list of the keys and values within a dictionary using the keys() and values() functions\n",
    "\n",
    "# <COGINST>\n",
    "print(exampleDict.keys())\n",
    "print(exampleDict.values())\n",
    "# </COGINST>"
   ]
  },
  {
   "cell_type": "markdown",
   "id": "0df0621b",
   "metadata": {},
   "source": [
    "An important thing to remember about dictionaries is that, where many other iterables have a specific order, dictionaries do not.  If you were to attempt to print out the contents of a dictionary, you could get a different order each time.  Doing the same for a list or tuple would yield the same order every time.  "
   ]
  },
  {
   "cell_type": "markdown",
   "id": "28d9f277",
   "metadata": {},
   "source": [
    "## Loops:"
   ]
  },
  {
   "cell_type": "markdown",
   "id": "876996b8",
   "metadata": {},
   "source": [
    "### For Loops:"
   ]
  },
  {
   "cell_type": "code",
   "execution_count": 12,
   "id": "aeec572e",
   "metadata": {},
   "outputs": [
    {
     "name": "stdout",
     "output_type": "stream",
     "text": [
      "num = 1\n",
      "total = 1\n",
      "num = 2\n",
      "total = 3\n",
      "num = 3\n",
      "total = 6\n",
      "num = 4\n",
      "total = 10\n",
      "num = 5\n",
      "total = 15\n"
     ]
    }
   ],
   "source": [
    "# A for loop is constructed using the word \"for\", followed by a variable name, followed by the word \"in\",\n",
    "# followed with an iterable, and ending with a colon.  \n",
    "\n",
    "# The purpose of a for loop is to allow element-wise processing of an iterable.  \n",
    "# This means we are looking at the contents of the iterable one piece at a time and performing \n",
    "# operations on that piece.  \n",
    "\n",
    "# This loop adds up all of the numbers in the tuple.  \n",
    "\n",
    "# <COGINST>\n",
    "total = 0  # total starts at 0\n",
    "for num in (1, 2, 3, 4, 5):  # We specify the variable is called \"num\" and the iterable to iterate over\n",
    "    print(f'num = {num}')  # Prints the current value of num with a label\n",
    "    total = total + num  # Each iteration, we add the current value of num to the previous total\n",
    "    print(f'total = {total}')  # Prints the current value of total with a label\n",
    "# </COGINST>"
   ]
  },
  {
   "cell_type": "code",
   "execution_count": 13,
   "id": "a6e74d5a",
   "metadata": {},
   "outputs": [
    {
     "ename": "NameError",
     "evalue": "name 'x' is not defined",
     "output_type": "error",
     "traceback": [
      "\u001b[1;31m---------------------------------------------------------------------------\u001b[0m",
      "\u001b[1;31mNameError\u001b[0m                                 Traceback (most recent call last)",
      "\u001b[1;32m~\\AppData\\Local\\Temp/ipykernel_3436/1263319641.py\u001b[0m in \u001b[0;36m<module>\u001b[1;34m\u001b[0m\n\u001b[0;32m      3\u001b[0m \u001b[1;32mfor\u001b[0m \u001b[0mx\u001b[0m \u001b[1;32min\u001b[0m \u001b[1;33m[\u001b[0m\u001b[1;33m]\u001b[0m\u001b[1;33m:\u001b[0m         \u001b[1;31m# the iterable is empty - the iterate-variable `x` will not be defined\u001b[0m\u001b[1;33m\u001b[0m\u001b[1;33m\u001b[0m\u001b[0m\n\u001b[0;32m      4\u001b[0m     \u001b[0mprint\u001b[0m\u001b[1;33m(\u001b[0m\u001b[1;34m\"Hello?\"\u001b[0m\u001b[1;33m)\u001b[0m  \u001b[1;31m# this code is never executed\u001b[0m\u001b[1;33m\u001b[0m\u001b[1;33m\u001b[0m\u001b[0m\n\u001b[1;32m----> 5\u001b[1;33m \u001b[0mprint\u001b[0m\u001b[1;33m(\u001b[0m\u001b[0mx\u001b[0m\u001b[1;33m)\u001b[0m             \u001b[1;31m# raises an error because `x` was never defined\u001b[0m\u001b[1;33m\u001b[0m\u001b[1;33m\u001b[0m\u001b[0m\n\u001b[0m\u001b[0;32m      6\u001b[0m \u001b[1;31m# </COGINST>\u001b[0m\u001b[1;33m\u001b[0m\u001b[1;33m\u001b[0m\u001b[0m\n",
      "\u001b[1;31mNameError\u001b[0m: name 'x' is not defined"
     ]
    }
   ],
   "source": [
    "# Potential Pitfall of for loops\n",
    "# <COGINST>\n",
    "for x in []:         # the iterable is empty - the iterate-variable `x` will not be defined\n",
    "    print(\"Hello?\")  # this code is never executed\n",
    "print(x)             # raises an error because `x` was never defined\n",
    "# </COGINST>"
   ]
  },
  {
   "cell_type": "markdown",
   "id": "1c21ace0",
   "metadata": {},
   "source": [
    "### While Loops:"
   ]
  },
  {
   "cell_type": "code",
   "execution_count": 14,
   "id": "5f8c8b19",
   "metadata": {},
   "outputs": [
    {
     "name": "stdout",
     "output_type": "stream",
     "text": [
      "1\n",
      "2\n"
     ]
    }
   ],
   "source": [
    "# Similar to a for loop, a while loop is used to rapidly perform the same task multiple times.  \n",
    "# The main difference between them is that, where a for loop takes an iterable as input and\n",
    "# runs a number of times equal to the number of elements in the iterable, a while loop\n",
    "# takes a boolean expression as input and will run as long as that boolean is True.\n",
    "\n",
    "# A while loops is constructed using the word \"while\", followed by a condition, and ending with a colon\n",
    "\n",
    "# <COGINST>\n",
    "total = 0\n",
    "while(total < 2):\n",
    "    total += 1  # equivalent to: `total = total + 1`\n",
    "    print(total)  # `total` has the value 2\n",
    "# </COGINST>"
   ]
  },
  {
   "cell_type": "markdown",
   "id": "2c7d8e16",
   "metadata": {},
   "source": [
    "### Break and Continue\n",
    "\n",
    "I'm sorry to get your hopes up with the above heading, but we are not taking a break just yet :(\n",
    "\n",
    "The words \"break\" and \"continue\" are used in loops to control the flow, or skip sections of the code within the loop.  \n",
    "\n",
    "The word \"break\" causes the loop to end regardless of whether it has reached its natural conclusion.  \n",
    "The word \"continue\" causes the loop to skip to the end of the current iteration.  \n"
   ]
  },
  {
   "cell_type": "markdown",
   "id": "b937c307",
   "metadata": {},
   "source": [
    "### Break:"
   ]
  },
  {
   "cell_type": "code",
   "execution_count": 15,
   "id": "ce353c45",
   "metadata": {},
   "outputs": [
    {
     "name": "stdout",
     "output_type": "stream",
     "text": [
      "2  ...next iteration\n",
      "4  ...next iteration\n",
      "6  ...next iteration\n"
     ]
    }
   ],
   "source": [
    "# <COGINST>\n",
    "for item in [2, 4, 6]:  ##pick each item in the list\n",
    "    if item == 3:  ##Checks if current item is equal to 3\n",
    "        print(item, \" ...break!\")\n",
    "        break \n",
    "    print(item, \" ...next iteration\")\n",
    "# </COGINST>"
   ]
  },
  {
   "cell_type": "code",
   "execution_count": 16,
   "id": "92bcde3c",
   "metadata": {},
   "outputs": [],
   "source": [
    "# Now try running the same code with a 3 in the list\n",
    "\n",
    "# Student Code Here"
   ]
  },
  {
   "cell_type": "markdown",
   "id": "05c6e4cd",
   "metadata": {},
   "source": [
    "### Continue:"
   ]
  },
  {
   "cell_type": "code",
   "execution_count": 17,
   "id": "c12bec2c",
   "metadata": {},
   "outputs": [
    {
     "name": "stdout",
     "output_type": "stream",
     "text": [
      "1\n",
      "2\n",
      "4\n",
      "5\n",
      "for loop is done\n"
     ]
    }
   ],
   "source": [
    "# While \"break\" is very useful, you may want to skip some sections of a loop without ending it entirely.  \n",
    "# This is where \"continue\" comes in.\n",
    "\n",
    "# You can use \"continue\" to skip the rest of the current iteration.\n",
    "\n",
    "# <COGINST>\n",
    "for i in [1,2,3,4,5]:\n",
    "    if i==3:\n",
    "        continue\n",
    "    print (i)\n",
    "else:\n",
    "    print (\"for loop is done\")\n",
    "# </COGINST>"
   ]
  },
  {
   "cell_type": "markdown",
   "id": "a473952e",
   "metadata": {},
   "source": [
    "### Functions\n",
    "\n",
    "We've used functions that are built into python to perform operations on variables and iterables.  Now we are going to practice writing our own.  \n",
    "Functions provide a means for running a block of code with varying inputs without writing the whole thing again.  "
   ]
  },
  {
   "cell_type": "code",
   "execution_count": 18,
   "id": "5dd4a6ea",
   "metadata": {},
   "outputs": [
    {
     "name": "stdout",
     "output_type": "stream",
     "text": [
      "9\n"
     ]
    }
   ],
   "source": [
    "# A function is constructed with the word \"def\", followed by the \n",
    "# name of the function (similar to a variable name), followed by input variables inside parentheses, \n",
    "# and ended with a colon.  \n",
    "\n",
    "# Inside the function, the word \"return\" specifies what value is to be output by the function.  \n",
    "# It is important to remember that once the \"return\" activates, no other code inside the function will run.  \n",
    "\n",
    "# <COGINST>\n",
    "def f(x):\n",
    "    y = x**2 + 2*x + 1\n",
    "    return y\n",
    "print(f(2)) ##Should print result of 2^2 + 2*2 + 1 which is 9\n",
    "# </COGINST>"
   ]
  },
  {
   "cell_type": "code",
   "execution_count": 19,
   "id": "6f91382a",
   "metadata": {},
   "outputs": [
    {
     "ename": "NameError",
     "evalue": "name 'y' is not defined",
     "output_type": "error",
     "traceback": [
      "\u001b[1;31m---------------------------------------------------------------------------\u001b[0m",
      "\u001b[1;31mNameError\u001b[0m                                 Traceback (most recent call last)",
      "\u001b[1;32m~\\AppData\\Local\\Temp/ipykernel_3436/1949066660.py\u001b[0m in \u001b[0;36m<module>\u001b[1;34m\u001b[0m\n\u001b[0;32m      3\u001b[0m \u001b[1;33m\u001b[0m\u001b[0m\n\u001b[0;32m      4\u001b[0m \u001b[1;31m# <COGINST>\u001b[0m\u001b[1;33m\u001b[0m\u001b[1;33m\u001b[0m\u001b[0m\n\u001b[1;32m----> 5\u001b[1;33m \u001b[0mprint\u001b[0m\u001b[1;33m(\u001b[0m\u001b[0my\u001b[0m\u001b[1;33m)\u001b[0m\u001b[1;33m\u001b[0m\u001b[1;33m\u001b[0m\u001b[0m\n\u001b[0m\u001b[0;32m      6\u001b[0m \u001b[1;31m# </COGINST>\u001b[0m\u001b[1;33m\u001b[0m\u001b[1;33m\u001b[0m\u001b[0m\n",
      "\u001b[1;31mNameError\u001b[0m: name 'y' is not defined"
     ]
    }
   ],
   "source": [
    "# Something to keep in mind when using functions, is that the variables we create inside it\n",
    "# are not accessible outside of it.  If we try to print the variable y, it will result in an error.  \n",
    "\n",
    "# <COGINST>\n",
    "print(y)\n",
    "# </COGINST>"
   ]
  },
  {
   "cell_type": "markdown",
   "id": "eae50d83",
   "metadata": {},
   "source": [
    "### Challenge Problems:\n",
    "We will now be moving into breakout rooms to try answering some problems similar to those which will be found in this week's homework.  "
   ]
  },
  {
   "cell_type": "code",
   "execution_count": null,
   "id": "d3c8da32",
   "metadata": {},
   "outputs": [],
   "source": [
    "# One common application you may find for loops, especially in data science and machine learning,\n",
    "# is the construction of more complex iterables from simple ones.  \n",
    "\n",
    "# For instance, lets say you have a list of names and a list of grades.  \n",
    "# The two lists are not connected in anyway besides perhaps the corresponding values sharing an index.  \n",
    "# We can use a loop to transfer this data into a dictionary which links the information together.  \n",
    "\n",
    "# Create a dictionary named \"Gradebook\" which holds the grades as a value for the correspondding student key\n",
    "Names = ['Alexander', 'Abhi', 'Krishna', 'Sydney']\n",
    "Grades = [[90, 93, 73], [84, 97, 77], [96, 93, 77], [93, 88, 85]]\n",
    "# <COGINST>\n",
    "GradeBook = {}\n",
    "for i in range(len(Names)):\n",
    "    GradeBook[Names[i]] = Grades[i]\n",
    "print(GradeBook)\n",
    "# </COGINST>"
   ]
  },
  {
   "cell_type": "code",
   "execution_count": null,
   "id": "b6d31794",
   "metadata": {},
   "outputs": [],
   "source": [
    "# Try writing a function to compute the average of a list of numbers.  \n",
    "# You can accomplish this using either a loop or iterable functions.  \n",
    "\n",
    "# <COGINST>\n",
    "def avg(nums):\n",
    "    return sum(nums)/len(nums)\n",
    "print(avg([1,2,3,4,5]))\n",
    "\n",
    "# or\n",
    "\n",
    "def avg(nums):\n",
    "    total = 0\n",
    "    for each in nums:\n",
    "        total += each\n",
    "    return total/len(nums)\n",
    "print(avg([1,2,3,4,5]))\n",
    "# </COGINST>"
   ]
  },
  {
   "cell_type": "markdown",
   "id": "88823bd8",
   "metadata": {},
   "source": [
    "A Palindrome is a string that reads the sdame from left to right and from right to left.  \n",
    "Strings like \"racecar\" and \"live on time, emit no evil\" are palindromes\n",
    "\n",
    "Notice that only valid alphanumeric characters are accounted for and that palindromes are not case-sensitive.  \n",
    "Write a function named \"is_palindrome\" which, given a string, returns whether or not the string is a palindrome.\n",
    "\n",
    "Examples: \n",
    "\n",
    "is_palindrome(\"Step on no pets!\") --> True\n",
    "\n",
    "is_palindrome(\"'Tis not a palindrome\") --> False"
   ]
  },
  {
   "cell_type": "code",
   "execution_count": null,
   "id": "481a47a1",
   "metadata": {},
   "outputs": [],
   "source": [
    "# <COGINST>\n",
    "def is_palindrome(input_str):\n",
    "    \"\"\" Given a string, determine if it is a palindrome.\n",
    "        Whitespaces, character-casing, and non-alphanumeric\n",
    "        characters are all ignored.\n",
    "\n",
    "        Parameters\n",
    "        ----------\n",
    "        s: str\n",
    "            Input string\n",
    "\n",
    "        Returns\n",
    "        -------\n",
    "        bool\n",
    "    \"\"\"\n",
    "    filtered_str = \"\".join(c.lower() for c in input_str if c.isalnum())\n",
    "    return filtered_str == filtered_str[::-1]\n",
    "# </COGINST>"
   ]
  },
  {
   "cell_type": "markdown",
   "id": "78079db5",
   "metadata": {},
   "source": [
    "Sometimes it is very important to handle different input object types differently in a function. This problem will exercise your understanding of types, control-flow, dictionaries, and more.\n",
    "\n",
    "We want to encode a sequence of Python objects as a single string. The following describes the encoding method that we want to use for each type of object. Each object’s transcription in should be separated by \" | \", and the result should be one large string.\n",
    "\n",
    "If the object is an integer, convert it into a string by spelling out each digit in base-10 in this format: 142  one-four-two; -12  neg-one-two.\n",
    "\n",
    "If the object is a float, just append its integer part (obtained by rounding down) the same way and the string \"and float\": 12.324  one-two and float.\n",
    "\n",
    "If the object is a string, keep it as is.\n",
    "\n",
    "If the object is of any other type, return 'OTHER'."
   ]
  },
  {
   "cell_type": "code",
   "execution_count": null,
   "id": "6fbe78f4",
   "metadata": {},
   "outputs": [],
   "source": [
    "# <COGINST>\n",
    "stringMap = {'0':'zero', '1':'one', '2':'two', '3':'three', '4':'four', '5':'five', \n",
    "             '6':'six', '7':'seven', '8':'eight', '9':'nine', '-':'neg'}\n",
    "def encodeObj(item):\n",
    "    if isinstance(item, int): return \"-\".join(stringMap[digit] for digit in str(item))\n",
    "    if isinstance(item, float): return \"-\".join(stringMap[digit] for digit in str(int(item))) + \" and float\"\n",
    "    if isinstance(item, str): return item\n",
    "    return 'OTHER'\n",
    "# </COGINST>"
   ]
  }
 ],
 "metadata": {
  "jupytext": {
   "formats": "ipynb,md"
  },
  "kernelspec": {
   "display_name": "Python 3 (ipykernel)",
   "language": "python",
   "name": "python3"
  },
  "language_info": {
   "codemirror_mode": {
    "name": "ipython",
    "version": 3
   },
   "file_extension": ".py",
   "mimetype": "text/x-python",
   "name": "python",
   "nbconvert_exporter": "python",
   "pygments_lexer": "ipython3",
   "version": "3.9.13"
  }
 },
 "nbformat": 4,
 "nbformat_minor": 5
}
