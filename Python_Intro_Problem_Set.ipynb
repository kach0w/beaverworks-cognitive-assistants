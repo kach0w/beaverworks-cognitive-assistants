{
 "cells": [
  {
   "cell_type": "markdown",
   "id": "a4127c58",
   "metadata": {},
   "source": [
    "# Intro to Python"
   ]
  },
  {
   "cell_type": "markdown",
   "id": "dd21dc2d",
   "metadata": {},
   "source": [
    "In this lecture, we will be going through a brief introduction to python and the skills you will be using for the rest of the course. I will first show you how to use these aspects of python, and then give you time to complete a problem set notebook which will apply the topics we just covered."
   ]
  },
  {
   "cell_type": "markdown",
   "id": "d7bde33a",
   "metadata": {},
   "source": [
    "# Numbers:"
   ]
  },
  {
   "cell_type": "markdown",
   "id": "2be4abd7",
   "metadata": {},
   "source": [
    "In python, there are different kinds of variables which can be used to store numbers of varying precision. In this section, you will demonstrate your ability to create and assign these variables, display their values, and explain their limitations."
   ]
  },
  {
   "cell_type": "code",
   "execution_count": 1,
   "id": "7ca2431a",
   "metadata": {},
   "outputs": [],
   "source": [
    "# Create an integer of value 2 with the name x and a float of value 2 with the name y\n",
    "\n",
    "# <COGINST>\n",
    "x = 2\n",
    "y = 3.2\n",
    "# </COGINST>"
   ]
  },
  {
   "cell_type": "code",
   "execution_count": 2,
   "id": "f6e616b2",
   "metadata": {},
   "outputs": [
    {
     "name": "stdout",
     "output_type": "stream",
     "text": [
      "2\n",
      "3.2\n"
     ]
    }
   ],
   "source": [
    "# Print the values of x and y\n",
    "\n",
    "# <COGINST>\n",
    "print(x)\n",
    "print(y)\n",
    "# </COGINST>"
   ]
  },
  {
   "cell_type": "markdown",
   "id": "d68f1c11",
   "metadata": {
    "cell_id": "00008-7d0ddc7a-c8d9-4023-ace0-728951636379",
    "deepnote_cell_type": "markdown"
   },
   "source": [
    "# Math Functions (add, subtract, multiply, divide, exponent, mod):"
   ]
  },
  {
   "cell_type": "markdown",
   "id": "04164572",
   "metadata": {},
   "source": [
    "In python, there are math functions which you can use to perform both the standard operations you use everyday, and some others. In this section, you will perform these functions using variables you created above."
   ]
  },
  {
   "cell_type": "code",
   "execution_count": 3,
   "id": "efa200e5",
   "metadata": {},
   "outputs": [
    {
     "name": "stdout",
     "output_type": "stream",
     "text": [
      "5.2\n"
     ]
    }
   ],
   "source": [
    "# Create a variable z equal to the sum of x and y.  Print the value of z\n",
    "\n",
    "# <COGINST>\n",
    "z = x + y\n",
    "print(z)\n",
    "# </COGINST>"
   ]
  },
  {
   "cell_type": "code",
   "execution_count": 4,
   "id": "d3aca2c2",
   "metadata": {},
   "outputs": [
    {
     "name": "stdout",
     "output_type": "stream",
     "text": [
      "1.2000000000000002\n"
     ]
    }
   ],
   "source": [
    "# Change the value of z to equal the value of x subtracted from y.  Print the value of z.  What do you notice about the output?\n",
    "\n",
    "# <COGINST>\n",
    "z = y - x\n",
    "print(z)\n",
    "# </COGINST>"
   ]
  },
  {
   "cell_type": "markdown",
   "id": "a1f5d0b9",
   "metadata": {},
   "source": [
    "As a reminder, when performing operations on floating point numbers, \n",
    "the method which the computer uses to store the values \n",
    "can result in minor variations from expected values.  \n",
    "You do not yet need to understand why this is, but it is \n",
    "important to be aware of it."
   ]
  },
  {
   "cell_type": "code",
   "execution_count": 5,
   "id": "8553c40b",
   "metadata": {},
   "outputs": [
    {
     "name": "stdout",
     "output_type": "stream",
     "text": [
      "6.4\n"
     ]
    }
   ],
   "source": [
    "# Change the value of z to equal x times y.  Print the value of z\n",
    "\n",
    "# <COGINST>\n",
    "z = x * y\n",
    "print(z)\n",
    "# </COGINST>"
   ]
  },
  {
   "cell_type": "code",
   "execution_count": 7,
   "id": "b5629cfb",
   "metadata": {},
   "outputs": [
    {
     "name": "stdout",
     "output_type": "stream",
     "text": [
      "2.0\n"
     ]
    }
   ],
   "source": [
    "# Change the value of z to equal 4 divided by x.  Print the value of z\n",
    "\n",
    "# <COGINST>\n",
    "z = 4 / x\n",
    "print(z)\n",
    "# </COGINST>"
   ]
  },
  {
   "cell_type": "code",
   "execution_count": 8,
   "id": "159f65ad",
   "metadata": {},
   "outputs": [
    {
     "name": "stdout",
     "output_type": "stream",
     "text": [
      "27\n"
     ]
    }
   ],
   "source": [
    "# Change the value of z to equal 3 to the third power.  Print the value of z\n",
    "\n",
    "# <COGINST>\n",
    "z = 3 ** 3\n",
    "print(z)\n",
    "# </COGINST>"
   ]
  },
  {
   "cell_type": "code",
   "execution_count": 9,
   "id": "35341041",
   "metadata": {},
   "outputs": [
    {
     "name": "stdout",
     "output_type": "stream",
     "text": [
      "2\n"
     ]
    }
   ],
   "source": [
    "# Change the value of z to equal 7 mod 5.  Print the value of z\n",
    "\n",
    "# <COGINST>\n",
    "z = 7 % 5\n",
    "print(z)\n",
    "# </COGINST>"
   ]
  },
  {
   "cell_type": "code",
   "execution_count": 10,
   "id": "70d65cb5",
   "metadata": {},
   "outputs": [
    {
     "name": "stdout",
     "output_type": "stream",
     "text": [
      "1.5\n",
      "1\n"
     ]
    }
   ],
   "source": [
    "# Print the value of 3 divided by x and 3 floor divided by x.  Compare the two outputs\n",
    "\n",
    "# <COGINST>\n",
    "print(3/x)\n",
    "print(3//x)\n",
    "# </COGINST>"
   ]
  },
  {
   "cell_type": "markdown",
   "id": "f8871075",
   "metadata": {},
   "source": [
    "# Booleans (True/False)"
   ]
  },
  {
   "cell_type": "markdown",
   "id": "5ad73685",
   "metadata": {},
   "source": [
    "In python, there are variables called booleans which can have the values true or false. In this section, you will assign boolean variables, check their values, and use them in meaningful ways."
   ]
  },
  {
   "cell_type": "code",
   "execution_count": 11,
   "id": "96f7b0f9",
   "metadata": {},
   "outputs": [
    {
     "name": "stdout",
     "output_type": "stream",
     "text": [
      "False\n"
     ]
    }
   ],
   "source": [
    "# Create a variable named condition2 and assign it the value False.  Print the value of condition2\n",
    "\n",
    "# <COGINST>\n",
    "condition2 = False\n",
    "print(condition2)\n",
    "# </COGINST>"
   ]
  },
  {
   "cell_type": "code",
   "execution_count": 13,
   "id": "4fb27489",
   "metadata": {},
   "outputs": [
    {
     "name": "stdout",
     "output_type": "stream",
     "text": [
      "True\n"
     ]
    }
   ],
   "source": [
    "# Based on the other comparison operators we covered, \n",
    "# how do you think we check if a variable is greater than or equal to another?\n",
    "# You can use the variables x and y from earlier in the notebook in your answer.  \n",
    "\n",
    "# <COGINST>\n",
    "print(y >= x)\n",
    "# </COGINST>"
   ]
  },
  {
   "cell_type": "code",
   "execution_count": 14,
   "id": "9b47fba5",
   "metadata": {},
   "outputs": [
    {
     "name": "stdout",
     "output_type": "stream",
     "text": [
      "True\n"
     ]
    }
   ],
   "source": [
    "# What do you think the output of True or True will be?  Try it\n",
    "\n",
    "# <COGINST>\n",
    "print(True or True)\n",
    "# </COGINST>\"\""
   ]
  },
  {
   "cell_type": "code",
   "execution_count": 15,
   "id": "0fea22ed",
   "metadata": {},
   "outputs": [
    {
     "name": "stdout",
     "output_type": "stream",
     "text": [
      "False\n"
     ]
    }
   ],
   "source": [
    "# What do you think the output of False or False will be?  Try it\n",
    "\n",
    "# <COGINST>\n",
    "print(False or False)\n",
    "# </COGINST>\"\""
   ]
  },
  {
   "cell_type": "code",
   "execution_count": 16,
   "id": "f4a8aca9",
   "metadata": {},
   "outputs": [
    {
     "name": "stdout",
     "output_type": "stream",
     "text": [
      "False\n"
     ]
    }
   ],
   "source": [
    "# What do you think the output of True and False will be?  Try it\n",
    "\n",
    "# <COGINST>\n",
    "print(True and False)\n",
    "# </COGINST>\"\""
   ]
  },
  {
   "cell_type": "code",
   "execution_count": 17,
   "id": "050f46d8",
   "metadata": {},
   "outputs": [
    {
     "name": "stdout",
     "output_type": "stream",
     "text": [
      "False\n"
     ]
    }
   ],
   "source": [
    "# When checking if two floating point numbers are equivalent, we cannot use the == operator.  \n",
    "# This is because of the limited precision we saw illustrated in the earlier example.  \n",
    "# Try checking if 0.1 + 0.1 + 0.1 is equal to 0.3\n",
    "\n",
    "# <COGINST>\n",
    "print(0.1 + 0.1 + 0.1 == 0.3)\n",
    "# </COGINST>"
   ]
  },
  {
   "cell_type": "code",
   "execution_count": 19,
   "id": "843344f4",
   "metadata": {},
   "outputs": [
    {
     "name": "stdout",
     "output_type": "stream",
     "text": [
      "True\n"
     ]
    }
   ],
   "source": [
    "# There is a function in the math module ofpython which allows us to check \n",
    "# if two floats are close enough in value to be considered equal.  \n",
    "# Hint: the syntax is math.isclose(x, y)\n",
    "\n",
    "import math # We will cover imports later. For now, just notice this line\n",
    "\n",
    "# <COGINST>\n",
    "print(math.isclose((0.1+0.1+0.1), 0.3))\n",
    "# </COGINST>"
   ]
  },
  {
   "cell_type": "markdown",
   "id": "47d26cf0",
   "metadata": {},
   "source": [
    "# Types"
   ]
  },
  {
   "cell_type": "markdown",
   "id": "9f778314",
   "metadata": {},
   "source": [
    "Every variable you have worked with so far has been what is called an instance of an object of its corresponding type. For instance, when you created the variable 'x' and made it equal 2, you created an instance of the integer type whose name is 'x' and value is 2. Integers, floats, and booleans are all objects. There are other types of objects as well that we will cover later, and additional types can be created through the code you write.\n",
    "\n",
    "If this seems a bit confusing, that is ok. It will make more sense as we work through this section.\n",
    "In this section, you will be practicing a few methods of checking what type an object is and how that can be useful."
   ]
  },
  {
   "cell_type": "code",
   "execution_count": 20,
   "id": "deab86e3",
   "metadata": {},
   "outputs": [
    {
     "name": "stdout",
     "output_type": "stream",
     "text": [
      "<class 'float'>\n"
     ]
    }
   ],
   "source": [
    "# What type of object is y?\n",
    "\n",
    "# <COGINST>\n",
    "print(type(y))\n",
    "# </COGINST>"
   ]
  },
  {
   "cell_type": "code",
   "execution_count": 21,
   "id": "0b58aed4",
   "metadata": {},
   "outputs": [
    {
     "name": "stdout",
     "output_type": "stream",
     "text": [
      "False\n"
     ]
    }
   ],
   "source": [
    "# Use this function to check if y is an integer\n",
    "\n",
    "# <COGINST>\n",
    "print(isinstance(y, int))\n",
    "# </COGINST>"
   ]
  },
  {
   "cell_type": "markdown",
   "id": "c0060c82",
   "metadata": {},
   "source": [
    "The difference between these functions is that type() returns whatever type the object is, but it is not in a very useable format for our code to read.  The isinstance() function only checks if the object is of one specified type, but it returns a boolean (True/False) which we can use to tell our code to perform different actions.  We will cover how to do that next week.  "
   ]
  }
 ],
 "metadata": {
  "jupytext": {
   "formats": "ipynb,md"
  },
  "kernelspec": {
   "display_name": "Python 3 (ipykernel)",
   "language": "python",
   "name": "python3"
  },
  "language_info": {
   "codemirror_mode": {
    "name": "ipython",
    "version": 3
   },
   "file_extension": ".py",
   "mimetype": "text/x-python",
   "name": "python",
   "nbconvert_exporter": "python",
   "pygments_lexer": "ipython3",
   "version": "3.9.7"
  }
 },
 "nbformat": 4,
 "nbformat_minor": 5
}
