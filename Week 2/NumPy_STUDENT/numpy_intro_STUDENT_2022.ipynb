{
 "cells": [
  {
   "cell_type": "markdown",
   "id": "357d8341",
   "metadata": {},
   "source": [
    "# Essentials of NumPy\n",
    "\n",
    "Today we will discuss NumPy, which is the premier Python library for doing numerical work. We will introduce the main objects in NumPy - `ndarray`s - as well as look at how we can perform mathematical operations on them. We will also look at how we can use numbers to analyze seemingly non-number-like types of data (such as images and sounds)."
   ]
  },
  {
   "cell_type": "markdown",
   "id": "6f1ab1ee",
   "metadata": {},
   "source": [
    "## Importing NumPy\n",
    "\n",
    "As NumPy is not part of the standard Python language (it is a seperate package), we need to import it in order to be able to use it. We commonly abbreviate the package name as `np`, which tends to be much more readable when writing code."
   ]
  },
  {
   "cell_type": "code",
   "execution_count": 22,
   "id": "2d3e7a9d",
   "metadata": {},
   "outputs": [],
   "source": [
    "#STUDENT CODE HERE"
   ]
  },
  {
   "cell_type": "markdown",
   "id": "c2b458f6",
   "metadata": {},
   "source": [
    "## Creating NumPy Arrays\n",
    "\n",
    "The central object in NumPy is the `ndarray`. This array simply stores a sequence of numbers, much like a list. However, NumPy arrays hold a few advantages over Python lists, especially when working with numbers:\n",
    "\n",
    "1. NumPy arrays allow us to easily access data along multiple dimensions.\n",
    "2. NumPy arrays let us perform fast math operations on all the elements in the array (or over patterned subsequences of its elements) using speedy C code; this process is known as vectorization and is really what makes NumPy so powerful.\n",
    "\n",
    "We will see both of these in more detail, but first let's create some simple NumPy arrays."
   ]
  },
  {
   "cell_type": "code",
   "execution_count": 23,
   "id": "2a289e93",
   "metadata": {},
   "outputs": [],
   "source": [
    "# Let's create a NumPy array called `x` with four elements: 0, 1, 2, 3\n",
    "\n",
    "#STUDENT CODE HERE"
   ]
  },
  {
   "cell_type": "code",
   "execution_count": 24,
   "id": "ddd77bfb",
   "metadata": {},
   "outputs": [],
   "source": [
    "# Now you do it! Create a NumPy array called `y` with the first six even numbers (0 not included)\n",
    "\n",
    "#STUDENT CODE HERE"
   ]
  },
  {
   "cell_type": "code",
   "execution_count": 25,
   "id": "fbdb464f",
   "metadata": {},
   "outputs": [
    {
     "name": "stdout",
     "output_type": "stream",
     "text": [
      "<class 'list'>\n",
      "<class 'str'>\n"
     ]
    }
   ],
   "source": [
    "# We learned about different kinds of data types last week\n",
    "print(type([1, 2, 3]))\n",
    "print(type(\"ABC\"))\n",
    "\n",
    "# But what is the type of a NumPy array?\n",
    "\n",
    "#STUDENT CODE HERE"
   ]
  },
  {
   "cell_type": "markdown",
   "id": "f423ead6",
   "metadata": {},
   "source": [
    "Just like lists, NumPy arrays can also have multiple dimensions."
   ]
  },
  {
   "cell_type": "code",
   "execution_count": 26,
   "id": "b851448b",
   "metadata": {},
   "outputs": [],
   "source": [
    "# Let's now make a two-dimensional array:\n",
    "\n",
    "#STUDENT CODE HERE"
   ]
  },
  {
   "cell_type": "markdown",
   "id": "3c85875b",
   "metadata": {},
   "source": [
    "Note that in 2D NumPy arrays, each sub-array must be the same length, forming orderly \"rows and columns\"."
   ]
  },
  {
   "cell_type": "markdown",
   "id": "28a6c8a2",
   "metadata": {},
   "source": [
    "## Reshaping Arrays\n",
    "\n",
    "We don't have to start off by making two-dimensional arrays! We can take a one-dimensional array and reshape it to be two-dimensional."
   ]
  },
  {
   "cell_type": "code",
   "execution_count": 27,
   "id": "bea18a84",
   "metadata": {},
   "outputs": [],
   "source": [
    "# Let's change y into a 3 by 2 array\n",
    "\n",
    "#STUDENT CODE HERE"
   ]
  },
  {
   "cell_type": "code",
   "execution_count": 28,
   "id": "968e125f",
   "metadata": {},
   "outputs": [],
   "source": [
    "# We did not set y to the reshaped variable! What would print(y) return?\n",
    "\n",
    "#STUDENT CODE HERE"
   ]
  },
  {
   "cell_type": "code",
   "execution_count": 29,
   "id": "07fe9211",
   "metadata": {},
   "outputs": [],
   "source": [
    "# Let's set y equal to the reshaped array now\n",
    "\n",
    "#STUDENT CODE HERE"
   ]
  },
  {
   "cell_type": "code",
   "execution_count": 30,
   "id": "7927545d",
   "metadata": {},
   "outputs": [],
   "source": [
    "# Now you try! Turn x into a 2 by 2 array\n",
    "\n",
    "#STUDENT CODE HERE"
   ]
  },
  {
   "cell_type": "markdown",
   "id": "d7f88c4a",
   "metadata": {},
   "source": [
    "Reshaping arrays allows us to manipulate our data easily and perform certain array-shape-dependent math operations, which we will see soon."
   ]
  },
  {
   "cell_type": "markdown",
   "id": "2d4344e3",
   "metadata": {},
   "source": [
    "## Vectorized Functions\n",
    "\n",
    "Say we had a Python list of numbers, and we wanted to square every number in the list. We would need to write a for loop that would one-by-one go through the list and square each value:"
   ]
  },
  {
   "cell_type": "code",
   "execution_count": 31,
   "id": "740a0b25",
   "metadata": {},
   "outputs": [],
   "source": [
    "# Square the numbers in this list\n",
    "l = [0,1,2,3]\n",
    "\n",
    "#STUDENT CODE HERE"
   ]
  },
  {
   "cell_type": "markdown",
   "id": "ccf13247",
   "metadata": {},
   "source": [
    "Python is actually a pretty slow programming language on its own, so as the number of elements in the list grows, the time it takes for this for loop to finish will grow quickly.\n",
    "\n",
    "However, with NumPy, we can use **vectorized functions** to quickly do mathematical operations on all elements on the list. \"Vectorization\" here means that NumPy will, under-the-hood, call very fast C code to perform the math so that it doesn't get bogged down in Python loops. We'll get to see how much faster vectorization is later."
   ]
  },
  {
   "cell_type": "code",
   "execution_count": 32,
   "id": "f3b9e72a",
   "metadata": {},
   "outputs": [],
   "source": [
    "# Let's square all the values in x:\n",
    "\n",
    "#STUDENT CODE HERE"
   ]
  },
  {
   "cell_type": "code",
   "execution_count": 33,
   "id": "6989fad2",
   "metadata": {},
   "outputs": [],
   "source": [
    "# We can also use the shorthand `**` for exponentiation:\n",
    "\n",
    "#STUDENT CODE HERE"
   ]
  },
  {
   "cell_type": "code",
   "execution_count": 34,
   "id": "7c7cc11c",
   "metadata": {},
   "outputs": [],
   "source": [
    "# Now you try exponentiating every element in y to the third power\n",
    "\n",
    "#STUDENT CODE HERE"
   ]
  },
  {
   "cell_type": "code",
   "execution_count": 35,
   "id": "c3f96fb6",
   "metadata": {},
   "outputs": [],
   "source": [
    "# Can anyone guess how we could multiply each element in y by 5, then add 1?\n",
    "# (i.e. compute 5 * y + 1)\n",
    "\n",
    "#STUDENT CODE HERE"
   ]
  },
  {
   "cell_type": "markdown",
   "id": "d4d49b12",
   "metadata": {},
   "source": [
    "## Indexing in NumPy\n",
    "\n",
    "Indexing in NumPy looks a lot indexing in Python lists or tuples. However, since we now have multiple dimensions, we can index into each dimension!"
   ]
  },
  {
   "cell_type": "code",
   "execution_count": 36,
   "id": "e9d5de39",
   "metadata": {},
   "outputs": [],
   "source": [
    "# Let's try this out a bit on y (which recall is a 3 x 2 array)\n",
    "# First let's see what happens if we provide only a single index\n",
    "\n",
    "#STUDENT CODE HERE"
   ]
  },
  {
   "cell_type": "code",
   "execution_count": 37,
   "id": "452423b0",
   "metadata": {},
   "outputs": [],
   "source": [
    "# What happens with two indices?\n",
    "\n",
    "#STUDENT CODE HERE"
   ]
  },
  {
   "cell_type": "code",
   "execution_count": 38,
   "id": "9e31b715",
   "metadata": {},
   "outputs": [],
   "source": [
    "# What if we do more than two indices?\n",
    "\n",
    "#STUDENT CODE HERE"
   ]
  },
  {
   "cell_type": "code",
   "execution_count": 39,
   "id": "988ce6c5",
   "metadata": {},
   "outputs": [],
   "source": [
    "# We can also do negative indexing\n",
    "# (remember: negative indexing picks out elements from the back)\n",
    "\n",
    "#STUDENT CODE HERE"
   ]
  },
  {
   "cell_type": "code",
   "execution_count": 40,
   "id": "77688794",
   "metadata": {},
   "outputs": [],
   "source": [
    "# Now you try: pick out the element 3 from x (which remember is a 2 x 2 array)\n",
    "\n",
    "#STUDENT CODE HERE"
   ]
  },
  {
   "cell_type": "markdown",
   "id": "511a8493",
   "metadata": {},
   "source": [
    "## Slicing in NumPy\n",
    "\n",
    "Slicing in NumPy is quite similar to that of Python lists: we use the same colon notation and everything. However, since NumPy arrays have multiple dimensions, we can now slice individually across each dimension."
   ]
  },
  {
   "cell_type": "code",
   "execution_count": 41,
   "id": "38ddf1ab",
   "metadata": {},
   "outputs": [
    {
     "ename": "NameError",
     "evalue": "name 'z' is not defined",
     "output_type": "error",
     "traceback": [
      "\u001b[1;31m---------------------------------------------------------------------------\u001b[0m",
      "\u001b[1;31mNameError\u001b[0m                                 Traceback (most recent call last)",
      "\u001b[1;32m~\\AppData\\Local\\Temp\\ipykernel_2224\\3066058213.py\u001b[0m in \u001b[0;36m<module>\u001b[1;34m\u001b[0m\n\u001b[1;32m----> 1\u001b[1;33m \u001b[0mprint\u001b[0m\u001b[1;33m(\u001b[0m\u001b[0mz\u001b[0m\u001b[1;33m)\u001b[0m\u001b[1;33m\u001b[0m\u001b[1;33m\u001b[0m\u001b[0m\n\u001b[0m\u001b[0;32m      2\u001b[0m \u001b[1;33m\u001b[0m\u001b[0m\n\u001b[0;32m      3\u001b[0m \u001b[1;31m# Let's try slicing the first dimension of z:\u001b[0m\u001b[1;33m\u001b[0m\u001b[1;33m\u001b[0m\u001b[0m\n\u001b[0;32m      4\u001b[0m \u001b[1;33m\u001b[0m\u001b[0m\n\u001b[0;32m      5\u001b[0m \u001b[1;31m#STUDENT CODE HERE\u001b[0m\u001b[1;33m\u001b[0m\u001b[1;33m\u001b[0m\u001b[0m\n",
      "\u001b[1;31mNameError\u001b[0m: name 'z' is not defined"
     ]
    }
   ],
   "source": [
    "print(z)\n",
    "\n",
    "# Let's try slicing the first dimension of z:\n",
    "\n",
    "#STUDENT CODE HERE\n",
    "\n",
    "# See that this picked out only the first row of z"
   ]
  },
  {
   "cell_type": "code",
   "execution_count": null,
   "id": "586fbca2",
   "metadata": {},
   "outputs": [],
   "source": [
    "# Now the second dimension:\n",
    "\n",
    "#STUDENT CODE HERE\n",
    "\n",
    "# See that this removed the first column of z"
   ]
  },
  {
   "cell_type": "code",
   "execution_count": null,
   "id": "918b7119",
   "metadata": {},
   "outputs": [],
   "source": [
    "# What happens if we put these together? Can anyone predict the output?\n",
    "\n",
    "#STUDENT CODE HERE"
   ]
  },
  {
   "cell_type": "code",
   "execution_count": null,
   "id": "18d5e50c",
   "metadata": {},
   "outputs": [],
   "source": [
    "# Now you try: using slicing, remove the last row of y\n",
    "\n",
    "#STUDENT CODE HERE"
   ]
  },
  {
   "cell_type": "code",
   "execution_count": null,
   "id": "f345f62f",
   "metadata": {},
   "outputs": [],
   "source": [
    "# As we saw last week, we can perform use slicing to reverse the order of lists\n",
    "# We can do the same with NumPy arrays:\n",
    "\n",
    "#STUDENT CODE HERE"
   ]
  },
  {
   "cell_type": "code",
   "execution_count": null,
   "id": "75f88398",
   "metadata": {},
   "outputs": [],
   "source": [
    "# We can also have higher dimensions of arrays:\n",
    "# a 3D array, shape-(2, 2, 2)\n",
    "d3_array = np.array([[[0, 1],\n",
    "                      [2, 3]],\n",
    "\n",
    "                     [[4, 5],\n",
    "                      [6, 7]]])\n",
    "\n",
    "# Indexing a 3D array means giving it [sheet number, row number, column number]\n",
    "\n",
    "#STUDENT CODE HERE"
   ]
  },
  {
   "cell_type": "markdown",
   "id": "26d11ec9",
   "metadata": {},
   "source": [
    "## Convenient Ways to Create Arrays\n",
    "\n",
    "It can be a bit tedious to type out all the numbers that we want in our array. But as we saw last week with contrsuctions like `list(range(10))`, there are convenient ways to create arrays with lots of numbers."
   ]
  },
  {
   "cell_type": "code",
   "execution_count": null,
   "id": "f5c9a588",
   "metadata": {},
   "outputs": [],
   "source": [
    "# We can create an arrays that has a bunch of ones with a specified shape\n",
    "\n",
    "#STUDENT CODE HERE"
   ]
  },
  {
   "cell_type": "code",
   "execution_count": null,
   "id": "9a0de303",
   "metadata": {},
   "outputs": [],
   "source": [
    "# We can do the same with 0's:\n",
    "\n",
    "#STUDENT CODE HERE"
   ]
  },
  {
   "cell_type": "code",
   "execution_count": null,
   "id": "ff767cea",
   "metadata": {},
   "outputs": [],
   "source": [
    "# We can fill an array with random numbers:\n",
    "\n",
    "#STUDENT CODE HERE"
   ]
  },
  {
   "cell_type": "code",
   "execution_count": null,
   "id": "2c69b40e",
   "metadata": {},
   "outputs": [],
   "source": [
    "# Or we can create an array with all the integers up to a specified values\n",
    "# like we did with list and range!\n",
    "\n",
    "#STUDENT CODE HERE"
   ]
  },
  {
   "cell_type": "code",
   "execution_count": null,
   "id": "73971c7e",
   "metadata": {},
   "outputs": [],
   "source": [
    "# Note that `arange` will always give a 1-D array, but we can reshape it if we want:\n",
    "\n",
    "#STUDENT CODE HERE"
   ]
  },
  {
   "cell_type": "code",
   "execution_count": null,
   "id": "b93dd4bd",
   "metadata": {},
   "outputs": [],
   "source": [
    "# We can also make an array of evenly spaced numbers:\n",
    "\n",
    "#STUDENT CODE HERE"
   ]
  },
  {
   "cell_type": "code",
   "execution_count": null,
   "id": "70857d64",
   "metadata": {},
   "outputs": [],
   "source": [
    "# Now you try to put some of these ideas (namely, creating arrays and vectorization) together:\n",
    "# create a 1-D NumPy array containing the squares of the first 5 integers\n",
    "# i.e. a NumPy array with 0, 1, 4, 9, 16\n",
    "\n",
    "#STUDENT CODE HERE"
   ]
  },
  {
   "cell_type": "markdown",
   "id": "f5c3c8ab",
   "metadata": {},
   "source": [
    "## Operations with Multiple Arrays\n",
    "\n",
    "So far we have seen how we can multiply each number in an array by a single value, or how we can raise every number in an array to a specified power. But what if we want to combine two arrays in an operation (say we want to add the elements in the two arrays)?\n",
    "\n",
    "Well, we can do that as well!"
   ]
  },
  {
   "cell_type": "code",
   "execution_count": null,
   "id": "c305e5f9",
   "metadata": {},
   "outputs": [],
   "source": [
    "# Let's add two (2 x 2) arrays, namely `x` and a new (2 x 2) array containing only 1's:\n",
    "\n",
    "#STUDENT CODE HERE"
   ]
  },
  {
   "cell_type": "code",
   "execution_count": null,
   "id": "4532b283",
   "metadata": {},
   "outputs": [],
   "source": [
    "# Let's divide the two arrays (with `x` in the numerator!):\n",
    "\n",
    "#STUDENT CODE HERE"
   ]
  },
  {
   "cell_type": "markdown",
   "id": "bb6a7bea",
   "metadata": {},
   "source": [
    "Notice that the operation between matrices are perfomed **element-wise**. That is, the elements in corresponding positions in the two arrays are the ones that \"interact\"."
   ]
  },
  {
   "cell_type": "code",
   "execution_count": null,
   "id": "33c99edb",
   "metadata": {},
   "outputs": [],
   "source": [
    "# Now you try! Raise each elements in x to its own power\n",
    "# i.e. compute 0 ** 0, 1 ** 1, 2 ** 2, and 3 ** 3\n",
    "\n",
    "#STUDENT CODE HERE"
   ]
  },
  {
   "cell_type": "markdown",
   "id": "c86ad3c0",
   "metadata": {},
   "source": [
    "This is a super powerful tool for doing computations, but there are some limitations. Let's see what happens when we try to do a computation on arrays with different shapes:"
   ]
  },
  {
   "cell_type": "code",
   "execution_count": null,
   "id": "93531bce",
   "metadata": {},
   "outputs": [],
   "source": [
    "# Try multiplying `x` (a 2 x 2 array) with `y` (a 3 x 2 array):\n",
    "\n",
    "#STUDENT CODE HERE"
   ]
  },
  {
   "cell_type": "markdown",
   "id": "b871713c",
   "metadata": {},
   "source": [
    "We get an error! This error is teeling us that NumPy doesn't know how to multiply a 2x2 and 3x2 array element-wise. After all, how can an element-wise operation be done if one array has more elements than the other!\n",
    "\n",
    "**We will generally only be able to perform element-wise operations between arrays with the same shape**. There is an exception to this rule, which is called 'broadcasting', which we will now very briefly discuss."
   ]
  },
  {
   "cell_type": "markdown",
   "id": "4732f0ae",
   "metadata": {},
   "source": [
    "## Array Broadcasting\n",
    "\n",
    "Before we saw that arrays with different shapes will give an error when we try to perform an element-wise operation between them. The exception to this is when one of the dimensions of the arrays is `1`:"
   ]
  },
  {
   "cell_type": "code",
   "execution_count": null,
   "id": "e3f100dd",
   "metadata": {},
   "outputs": [],
   "source": [
    "# While a (2 x 2) and (3 x 2) array cannot be multiplied,\n",
    "# a (2 x 2) and (2 x 1) array can:\n",
    "\n",
    "#STUDENT CODE HERE"
   ]
  },
  {
   "cell_type": "markdown",
   "id": "e3c29af6",
   "metadata": {},
   "source": [
    "The idea here is that NumPy will under-the-hood stretch out any `1` dimensions into the appropriate size such that the two arrays will have the same shape:\n",
    "\n",
    "<img src=\"broadcasting_example.png\">"
   ]
  },
  {
   "cell_type": "markdown",
   "id": "145a1d8b",
   "metadata": {},
   "source": [
    "We won't worry about this all too much, and when necessary we will point out that broadcasting is happening. However, it is an important piece of NumPy's behaviour and allows us to do computations much more efficiently (we can often save on memory by not storing the 'fully expanded' versions of arrays and relying on broadcasting to do element-wise operations when we need to)."
   ]
  },
  {
   "cell_type": "markdown",
   "id": "f092b15b",
   "metadata": {},
   "source": [
    "## How Fast is Vectorization?\n",
    "\n",
    "Let's add two large 1D arrays 500 times, just to see how much faster vectorization is compared to basic math operations. For this, we will use the `default_timer` function from the `timeit` library."
   ]
  },
  {
   "cell_type": "code",
   "execution_count": 44,
   "id": "9dfb7dc6",
   "metadata": {},
   "outputs": [
    {
     "ename": "NameError",
     "evalue": "name 'np' is not defined",
     "output_type": "error",
     "traceback": [
      "\u001b[1;31m---------------------------------------------------------------------------\u001b[0m",
      "\u001b[1;31mNameError\u001b[0m                                 Traceback (most recent call last)",
      "\u001b[1;32m~\\AppData\\Local\\Temp\\ipykernel_2224\\1175348571.py\u001b[0m in \u001b[0;36m<module>\u001b[1;34m\u001b[0m\n\u001b[0;32m      1\u001b[0m \u001b[1;32mfrom\u001b[0m \u001b[0mtimeit\u001b[0m \u001b[1;32mimport\u001b[0m \u001b[0mdefault_timer\u001b[0m \u001b[1;32mas\u001b[0m \u001b[0mtimer\u001b[0m\u001b[1;33m\u001b[0m\u001b[1;33m\u001b[0m\u001b[0m\n\u001b[0;32m      2\u001b[0m \u001b[1;33m\u001b[0m\u001b[0m\n\u001b[1;32m----> 3\u001b[1;33m \u001b[0marr1\u001b[0m \u001b[1;33m=\u001b[0m \u001b[0mnp\u001b[0m\u001b[1;33m.\u001b[0m\u001b[0mlinspace\u001b[0m\u001b[1;33m(\u001b[0m\u001b[1;36m0\u001b[0m\u001b[1;33m,\u001b[0m\u001b[1;36m1\u001b[0m\u001b[1;33m,\u001b[0m\u001b[1;36m10000\u001b[0m\u001b[1;33m)\u001b[0m \u001b[1;31m# create a size 10,000 array of evenly spaced numbers between 0 and 1\u001b[0m\u001b[1;33m\u001b[0m\u001b[1;33m\u001b[0m\u001b[0m\n\u001b[0m\u001b[0;32m      4\u001b[0m \u001b[1;33m\u001b[0m\u001b[0m\n\u001b[0;32m      5\u001b[0m \u001b[0marr2\u001b[0m \u001b[1;33m=\u001b[0m \u001b[0mnp\u001b[0m\u001b[1;33m.\u001b[0m\u001b[0marange\u001b[0m\u001b[1;33m(\u001b[0m\u001b[1;36m10000\u001b[0m\u001b[1;33m)\u001b[0m \u001b[1;31m# create a size 10,000 array of integers between 0 and 9,999\u001b[0m\u001b[1;33m\u001b[0m\u001b[1;33m\u001b[0m\u001b[0m\n",
      "\u001b[1;31mNameError\u001b[0m: name 'np' is not defined"
     ]
    }
   ],
   "source": [
    "from timeit import default_timer as timer\n",
    "\n",
    "arr1 = np.linspace(0,1,10000) # create a size 10,000 array of evenly spaced numbers between 0 and 1\n",
    "\n",
    "arr2 = np.arange(10000) # create a size 10,000 array of integers between 0 and 9,999\n",
    "\n",
    "def slow(a, b):\n",
    "    # Given 1D numpy arrays a and b, with same size, add the two arrays and return the sum using for-loops\n",
    "    arr_out = np.zeros(a.shape)\n",
    "    for idx in range(a.size):\n",
    "        arr_out[idx] = a[idx] + b[idx]\n",
    "\n",
    "def fast(a,b):\n",
    "    # Given numpy arrays a and b, add them using a vectorized NumPy operation, and return the sum\n",
    "    return np.add(a,b)"
   ]
  },
  {
   "cell_type": "code",
   "execution_count": null,
   "id": "fc426c0d",
   "metadata": {},
   "outputs": [],
   "source": [
    "start = timer() # This line starts the timer for the slow loop\n",
    "\n",
    "# Add the two arrays 500 times, the slow way\n",
    "for i in range(500):\n",
    "    slow(arr1, arr2)\n",
    "\n",
    "time_slow = timer() - start # This line records the time for the slow loop\n",
    "print(\"For-loop time:\", time_slow, \"seconds\")\n",
    "\n",
    "\n",
    "start = timer() # This line starts the timer for the fast loop\n",
    "\n",
    "# Add the two arrays 500 times, using vectorized addition\n",
    "for i in range(500):\n",
    "    fast(arr1, arr2)\n",
    "\n",
    "time_fast = timer() - start # This line records the time for the fast loop\n",
    "\n",
    "\n",
    "print(\"NumPy Vectorized time:\", time_fast, \"seconds\")\n",
    "print(\"The vectorized addition is \" + str(time_slow/time_fast) + \" times faster!\")"
   ]
  },
  {
   "cell_type": "markdown",
   "id": "4d284cb3",
   "metadata": {},
   "source": [
    "-------"
   ]
  },
  {
   "cell_type": "markdown",
   "id": "ff1ffdac",
   "metadata": {},
   "source": [
    "# What is NumPy Good For?\n",
    "\n",
    "So far, we've done quite a bit looking at how NumPy can be used to work with numbers. But we really want to do computer vision and NLP, which involve images and words, right? It isn't necessarily clear how these tasks can be translated into numbers, so how is NumPy at all useful for machine learning work in these areas?\n",
    "\n",
    "The key idea is that **observed data are just numbers**. Consider the image of a cat below.\n",
    "\n",
    "<img src=\"cat_pixels.png\">\n",
    "\n",
    "This picture is stored on the computer as a rectangular array (with shape 594 x 580) of numbers. Each number tells the computer how bright it should make the corresponding pixel on the screen in order to render the image accurately; the larger the number, the brighter the pixel. In the case of a colored image, each pixel consists of three numbers instead of one, and they tell each pixel how much red, green, and blue color should be present in the pixel, respectively.\n",
    "\n",
    "Thus doing mathematical analysis and manipulations on an image might be simpler than we would have assumed, were we to think of the picture as some impenetrable “image-format file” on our computer. When handed a png, we can easily load that image as a NumPy array and proceed from there with our analysis. While we might not yet know precisely what our mathematical approach will be to gleaning useful information from the image, we certainly are no longer in unfamiliar territory – we can definitely do “mathy” stuff to an array of numbers.\n",
    "\n",
    "Working with text doesn’t give us quite as clean of a story as does imagery — there is no text equivalent to a pixel. Rather, a major challenge in the field of natural language processing is establishing a cogent numerical representation for text. We will discuss this matter in some considerable depth in subsequent weeks, but rest assured, we will devise ways of representing text as numbers, with which we can do \"mathy\" things to model our data.\n",
    "\n",
    "The takeaway here is: no matter how exotic a machine learning problem may appear to be, we will always find a way to map our observations to numbers that we can do math on. This true for jpegs, videos, pdfs, “tweets”, audio recordings, etc."
   ]
  },
  {
   "cell_type": "markdown",
   "id": "e5ac18ff",
   "metadata": {},
   "source": [
    "----"
   ]
  },
  {
   "cell_type": "markdown",
   "id": "bfaa0821",
   "metadata": {},
   "source": [
    "# Playing With NumPy\n",
    "\n",
    "In the spirit of the previous discussion, let's play with a few actual representations of data. Work through the following exercises using the NumPy techniques we discussed above, and try to have some fun messing around with the examples on your own!\n",
    "\n",
    "Don't worry too much about the extra code that is here that may be unfamiliar to you! Just focus on manipulating the data being stored in the NumPy arrays."
   ]
  },
  {
   "cell_type": "code",
   "execution_count": 21,
   "id": "a014ba44",
   "metadata": {},
   "outputs": [
    {
     "ename": "NameError",
     "evalue": "name 'np' is not defined",
     "output_type": "error",
     "traceback": [
      "\u001b[1;31m---------------------------------------------------------------------------\u001b[0m",
      "\u001b[1;31mNameError\u001b[0m                                 Traceback (most recent call last)",
      "\u001b[1;32m~\\AppData\\Local\\Temp\\ipykernel_2224\\1357832820.py\u001b[0m in \u001b[0;36m<module>\u001b[1;34m\u001b[0m\n\u001b[0;32m      6\u001b[0m \u001b[1;33m\u001b[0m\u001b[0m\n\u001b[0;32m      7\u001b[0m \u001b[1;32mwith\u001b[0m \u001b[0mopen\u001b[0m\u001b[1;33m(\u001b[0m\u001b[0mtrumpet_path\u001b[0m\u001b[1;33m,\u001b[0m \u001b[1;34m'r'\u001b[0m\u001b[1;33m)\u001b[0m \u001b[1;32mas\u001b[0m \u001b[0mR\u001b[0m\u001b[1;33m:\u001b[0m\u001b[1;33m\u001b[0m\u001b[1;33m\u001b[0m\u001b[0m\n\u001b[1;32m----> 8\u001b[1;33m     \u001b[0mtrumpet\u001b[0m \u001b[1;33m=\u001b[0m \u001b[0mnp\u001b[0m\u001b[1;33m.\u001b[0m\u001b[0masarray\u001b[0m\u001b[1;33m(\u001b[0m\u001b[1;33m[\u001b[0m\u001b[0mint\u001b[0m\u001b[1;33m(\u001b[0m\u001b[0mi\u001b[0m\u001b[1;33m)\u001b[0m \u001b[1;32mfor\u001b[0m \u001b[0mi\u001b[0m \u001b[1;32min\u001b[0m \u001b[0mR\u001b[0m\u001b[1;33m]\u001b[0m\u001b[1;33m)\u001b[0m\u001b[1;33m\u001b[0m\u001b[1;33m\u001b[0m\u001b[0m\n\u001b[0m\u001b[0;32m      9\u001b[0m \u001b[1;33m\u001b[0m\u001b[0m\n\u001b[0;32m     10\u001b[0m \u001b[1;31m# USE THE FOLLOWING LINE OF CODE TO PLAY THE AUDIO ENCODED IN THE `TRUMPET` ARRAY\u001b[0m\u001b[1;33m\u001b[0m\u001b[1;33m\u001b[0m\u001b[0m\n",
      "\u001b[1;31mNameError\u001b[0m: name 'np' is not defined"
     ]
    }
   ],
   "source": [
    "# Run the following cell to load in the trumpet.wav soundfile and play it!\n",
    "# You may need to update `trumpet_path` to point to the correct file on your computer\n",
    "trumpet_path = r\"./trumpet.txt\"\n",
    "\n",
    "from IPython.display import Audio\n",
    "\n",
    "with open(trumpet_path, 'r') as R:\n",
    "    trumpet = np.asarray([int(i) for i in R])\n",
    "\n",
    "# USE THE FOLLOWING LINE OF CODE TO PLAY THE AUDIO ENCODED IN THE `TRUMPET` ARRAY\n",
    "Audio(trumpet, rate=44100)\n",
    "\n",
    "# Notice how the audio data is being stored simply as a NumPy array,\n",
    "# so we can use all the numerical/slicing/etc. operations we looked at earlier!"
   ]
  },
  {
   "cell_type": "code",
   "execution_count": null,
   "id": "22f0e096",
   "metadata": {},
   "outputs": [],
   "source": [
    "# Now, try the following exercises using the `trumpet` array:\n",
    "# (1) Reverse the audio clip and play the result\n",
    "\n",
    "reversed_trumpet = # reverse the trumpet data\n",
    "Audio(reversed_trumpet, rate=44100)"
   ]
  },
  {
   "cell_type": "code",
   "execution_count": null,
   "id": "522b13f5",
   "metadata": {},
   "outputs": [],
   "source": [
    "# (2) Sample every fourth element in the array and play the result\n",
    "\n",
    "every_fourth_trumpet = # select every fourth element to play in the signal\n",
    "Audio(every_fourth_trumpet, rate=44100)"
   ]
  },
  {
   "cell_type": "code",
   "execution_count": null,
   "id": "c79fcbf2",
   "metadata": {},
   "outputs": [],
   "source": [
    "# (3) Square the values in the array and play the result\n",
    "\n",
    "squared_trumpet = # square each element in the `trumpet` array\n",
    "Audio(squared_trumpet, rate=44100)"
   ]
  },
  {
   "cell_type": "code",
   "execution_count": null,
   "id": "5ce6ddc3",
   "metadata": {},
   "outputs": [],
   "source": [
    "# Run the following cell to load in a picture of your choice!\n",
    "# You will need to set the variable `img_path` to a path to a png or jpg file on your computer:\n",
    "# (if you don't have an image, you can use \"./cat_pixels.png\")\n",
    "img_path = r\"./cat_pixels.png\"\n",
    "\n",
    "import matplotlib.pyplot as plt\n",
    "import matplotlib.image as mpimg\n",
    "\n",
    "%matplotlib notebook\n",
    "\n",
    "img = mpimg.imread(img_path)\n",
    "\n",
    "fig, ax = plt.subplots()\n",
    "ax.imshow(img);"
   ]
  },
  {
   "cell_type": "code",
   "execution_count": null,
   "id": "d2856067",
   "metadata": {},
   "outputs": [],
   "source": [
    "# Print the shape of img and try to interpret what each of the dimensions represents\n",
    "# (i.e. which dimension corresponds to the height of the image, width of the image, \n",
    "# number of color channels in the image (RGB vs greyscale))\n",
    "\n",
    "# STUDENT CODE HERE"
   ]
  },
  {
   "cell_type": "code",
   "execution_count": null,
   "id": "fc034185",
   "metadata": {},
   "outputs": [],
   "source": [
    "# Using slicing, reverse the color channels of your image. What does the result look like?\n",
    "\n",
    "color_flipped_img = # reverse the order of the color channels in your image (likely the size 3 dimension!)\n",
    "\n",
    "fig, ax = plt.subplots()\n",
    "ax.imshow(color_flipped_img);"
   ]
  },
  {
   "cell_type": "code",
   "execution_count": null,
   "id": "4407b0d7",
   "metadata": {},
   "outputs": [],
   "source": [
    "# Try to crop your image to only include part of the top left corner. Try cropping to other regions too!\n",
    "\n",
    "cropped_img = # crop your image to only include the top left corner \n",
    "\n",
    "fig, ax = plt.subplots()\n",
    "ax.imshow(cropped_img);"
   ]
  }
 ],
 "metadata": {
  "kernelspec": {
   "display_name": "Python 3 (ipykernel)",
   "language": "python",
   "name": "python3"
  },
  "language_info": {
   "codemirror_mode": {
    "name": "ipython",
    "version": 3
   },
   "file_extension": ".py",
   "mimetype": "text/x-python",
   "name": "python",
   "nbconvert_exporter": "python",
   "pygments_lexer": "ipython3",
   "version": "3.9.13"
  }
 },
 "nbformat": 4,
 "nbformat_minor": 5
}
